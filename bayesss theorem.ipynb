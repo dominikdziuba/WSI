{
 "cells": [
  {
   "cell_type": "markdown",
   "metadata": {
    "id": "AMMXLENOd7V-"
   },
   "source": [
    "# Wstęp do Sztucznej Inteligencji - rok akademicki 2021/2022\n",
    "\n",
    "Przed rozpoczęciem pracy z notatnikiem zmień jego nazwę zgodnie z wzorem: `NrAlbumu_Nazwisko_Imie_PoprzedniaNazwa`.\n",
    "\n",
    "Przed wysłaniem notatnika upewnij się, że rozwiązałeś wszystkie zadania/ćwiczenia."
   ]
  },
  {
   "cell_type": "markdown",
   "metadata": {
    "id": "4ZZF68t-kiQ8"
   },
   "source": [
    "# Temat: Wnioskowanie oparte na wiedzy niepewnej. Wnioskowanie bayesowskie\n",
    "Zapoznaj się z treścią niniejszego notatnika czytając i wykonując go komórka po komórce. Wykonaj napotkane zadania/ćwiczenia."
   ]
  },
  {
   "cell_type": "code",
   "execution_count": null,
   "metadata": {
    "colab": {
     "base_uri": "https://localhost:8080/"
    },
    "executionInfo": {
     "elapsed": 4865,
     "status": "ok",
     "timestamp": 1649532629370,
     "user": {
      "displayName": "Dominik Dziuba",
      "userId": "09139784948394812397"
     },
     "user_tz": -120
    },
    "id": "jMNPVnxKmRsa",
    "outputId": "bb90656f-c066-4e53-f333-3aa363b5de51"
   },
   "outputs": [
    {
     "name": "stdout",
     "output_type": "stream",
     "text": [
      "Pymc3 version: 3.11.4\n",
      "Arviz version: 0.11.4\n",
      "Numpy version: 1.21.5\n"
     ]
    }
   ],
   "source": [
    "import pymc3 as pm\n",
    "import arviz as az\n",
    "import numpy as np\n",
    "print('Pymc3 version:', pm.__version__)\n",
    "print('Arviz version:', az.__version__)\n",
    "print('Numpy version:', np.__version__)"
   ]
  },
  {
   "cell_type": "markdown",
   "metadata": {
    "id": "9B7YUblnktrz"
   },
   "source": [
    "## Zadanie 1  (obowiązkowe, 5pkt.)\n",
    "Zapożyczone z ćwiczeń do wykładu [Arabas, Cichosz](http://wazniak.mimuw.edu.pl/index.php?title=Sztuczna_inteligencja/SI_%C4%86wiczenia_4)\n",
    "\n",
    "### Zamodeluj i odpowiedz na pytania.\n",
    "\n",
    "W śledztwie dotyczącym zabójstwa inspektor Bayes rozważa dwie hipotezy:\n",
    "\n",
    "- $H_1$ główny podejrzany zabił,\n",
    "- $H_2$ główny podejrzany nie zabił, \n",
    "\n",
    "oraz następujące możliwe fakty:\n",
    "\n",
    "- $E_1$ na miejscu zbrodni znaleziono odciski palców głównego podejrzanego,\n",
    "- $E_2$ główny podejrzany nie ma alibi na czas popełnienia zabójstwa,\n",
    "- $E_3$ główny podejrzany miał motyw zabicia ofiary,\n",
    "- $E_4$ główny podejrzany był widziany w sądziedztwie miejsca, w którym mieszka nielegalny handlarz bronią,\n",
    "- $E_5$ świadek zbrodni podał rysopis zabójcy nie pasujący do głównego podejrzanego. \n",
    "\n",
    "Zależności między takimi faktami a hipotezami opisują następujące prawdopodobieństwa:\n",
    "\n",
    "$P(E_1|H_1)=0.7,\\qquad P(E_1|H_2)=0.3,$\n",
    "\n",
    "$P(E_2|H_1)=0.8,\\qquad P(E_2|H_2)=0.4,$\n",
    "\n",
    "$P(E_3|H_1)=0.9,\\qquad P(E_3|H_2)=0.5,$\n",
    "\n",
    "$P(E_4|H_1)=0.4,\\qquad P(E_4|H_2)=0.2,$\n",
    "\n",
    "$P(E_5|H_1)=0.2,\\qquad P(E_5|H_2)=0.4.$ \n",
    "\n",
    "__W którym przypadku prawdopodobieństwo popełnienia zabójstwa byłoby największe?__\n",
    "\n",
    "1. Gdyby znaleziono na miejscu zbrodni jego odciski palców.\n",
    "2. Gdyby stwierdzono, że nie miał alibi i miał motyw.\n",
    "3. Gdyby znaleziono na miejscu zbrodni jego odciski palców oraz stwierdzono, że był widziany w sąsiedztwie miejsca, w którym mieszka nielegalny handlarz bronią, ale świadek zbrodni podał rysopis zabójcy nie pasujący do głównego podejrzanego."
   ]
  },
  {
   "cell_type": "markdown",
   "metadata": {
    "id": "_WeSA3oZsqwD"
   },
   "source": [
    "### TWÓJ PROGRAM:"
   ]
  },
  {
   "cell_type": "code",
   "execution_count": 4,
   "metadata": {
    "colab": {
     "base_uri": "https://localhost:8080/",
     "height": 213
    },
    "executionInfo": {
     "elapsed": 135637,
     "status": "ok",
     "timestamp": 1649550093333,
     "user": {
      "displayName": "Dominik Dziuba",
      "userId": "09139784948394812397"
     },
     "user_tz": -120
    },
    "id": "HbbAmNT8sqE1",
    "outputId": "4368c89b-e54c-47e5-c2ee-899418a0ff26"
   },
   "outputs": [
    {
     "name": "stderr",
     "output_type": "stream",
     "text": [
      "/usr/local/lib/python3.7/dist-packages/ipykernel_launcher.py:24: FutureWarning: In v4.0, pm.sample will return an `arviz.InferenceData` object instead of a `MultiTrace` by default. You can pass return_inferencedata=True or return_inferencedata=False to be safe and silence this warning.\n",
      "Sequential sampling (1 chains in 1 job)\n",
      "BinaryGibbsMetropolis: [Podejrzany zabił, E1, E2, E3, E4, E5]\n"
     ]
    },
    {
     "data": {
      "text/html": [
       "\n",
       "<style>\n",
       "    /* Turns off some styling */\n",
       "    progress {\n",
       "        /* gets rid of default border in Firefox and Opera. */\n",
       "        border: none;\n",
       "        /* Needs to be in here for Safari polyfill so background images work as expected. */\n",
       "        background-size: auto;\n",
       "    }\n",
       "    .progress-bar-interrupted, .progress-bar-interrupted::-webkit-progress-bar {\n",
       "        background: #F44336;\n",
       "    }\n",
       "</style>\n"
      ],
      "text/plain": [
       "<IPython.core.display.HTML object>"
      ]
     },
     "metadata": {},
     "output_type": "display_data"
    },
    {
     "data": {
      "text/html": [
       "\n",
       "    <div>\n",
       "      <progress value='201000' class='' max='201000' style='width:300px; height:20px; vertical-align: middle;'></progress>\n",
       "      100.00% [201000/201000 02:11<00:00 Sampling chain 0, 0 divergences]\n",
       "    </div>\n",
       "    "
      ],
      "text/plain": [
       "<IPython.core.display.HTML object>"
      ]
     },
     "metadata": {},
     "output_type": "display_data"
    },
    {
     "name": "stderr",
     "output_type": "stream",
     "text": [
      "Sampling 1 chain for 1_000 tune and 200_000 draw iterations (1_000 + 200_000 draws total) took 131 seconds.\n",
      "Only one chain was sampled, this makes it impossible to run some convergence checks\n"
     ]
    },
    {
     "name": "stdout",
     "output_type": "stream",
     "text": [
      "Przypadek 1: 0.7035549147317656\n",
      "Przypadek 2: 0.7847957517223478\n",
      "Przypadek 3: 0.6998622071902794\n",
      "120294\n"
     ]
    }
   ],
   "source": [
    "#YOUR CODE HERE\n",
    "import pymc3 as pm\n",
    "import arviz as az\n",
    "import numpy as np\n",
    "\n",
    "with pm.Model() as morderstwo_model:\n",
    "    zabil_H1 = pm.Bernoulli('Podejrzany zabił', 0.5)\n",
    "    \n",
    "    p_E1 = pm.Deterministic('p_E1', pm.math.switch(zabil_H1, 0.7, 0.3))\n",
    "    e1 = pm.Bernoulli('E1', p_E1)\n",
    "    \n",
    "    p_E2 = pm.Deterministic('p_E2', pm.math.switch(zabil_H1, 0.8, 0.4))\n",
    "    e2 = pm.Bernoulli('E2', p_E2)\n",
    "    \n",
    "    p_E3 = pm.Deterministic('p_E3', pm.math.switch(zabil_H1, 0.9, 0.5))\n",
    "    e3 = pm.Bernoulli('E3', p_E3)\n",
    "    \n",
    "    p_E4 = pm.Deterministic('p_E4', pm.math.switch(zabil_H1, 0.4, 0.2))\n",
    "    e4 = pm.Bernoulli('E4', p_E4)\n",
    "    \n",
    "    p_E5 = pm.Deterministic('p_E5', pm.math.switch(zabil_H1, 0.2, 0.4))\n",
    "    e5 = pm.Bernoulli('E5', p_E5)\n",
    "    \n",
    "    trace = pm.sample(200000, chains=1)\n",
    "    \n",
    "    p_przypadek_1 = (trace['E1'] * trace['Podejrzany zabił']).sum() / (trace['E1'] * trace['Podejrzany zabił'] + trace['E1'] * np.logical_not(trace['Podejrzany zabił'])).sum()\n",
    "    print('Przypadek 1:', p_przypadek_1)\n",
    "    \n",
    "    p_przypadek_2 = (trace['E2'] * trace['E3'] * trace['Podejrzany zabił']).sum() / (trace['E2'] * trace['E3'] * trace['Podejrzany zabił'] + trace['E2'] * trace['E3'] * np.logical_not(trace['Podejrzany zabił'])).sum()\n",
    "    print('Przypadek 2:', p_przypadek_2)\n",
    "    \n",
    "    p_przypadek_3 = (trace['E1'] * trace['E4'] * trace['E5'] * trace['Podejrzany zabił']).sum() / (trace['E1'] * trace['E4'] * trace['E5'] * trace['Podejrzany zabił'] + trace['E1'] * trace['E4'] * trace['E5'] * np.logical_not(trace['Podejrzany zabił'])).sum()\n",
    "    print('Przypadek 3:', p_przypadek_3)\n",
    "    \n",
    "    print(trace['E2'].sum())"
   ]
  },
  {
   "cell_type": "markdown",
   "metadata": {
    "id": "OJCwrDffiEd9"
   },
   "source": [
    "### ODPOWIEDŹ:"
   ]
  },
  {
   "cell_type": "markdown",
   "metadata": {
    "id": "8Sry3tq8tLpk"
   },
   "source": [
    "YOUR ANSWER HERE\n",
    "\n",
    "Przypadek 1: 0.7035549147317656\n",
    "Przypadek 2: 0.7847957517223478\n",
    "Przypadek 3: 0.6998622071902794\n",
    "\n",
    "Największe prawdopodobieństwo zabójstwa byłoby w przypdaku nr 2, czyli gdyby stwierdzono, że nie miał alibi i miał motyw."
   ]
  },
  {
   "cell_type": "markdown",
   "metadata": {
    "id": "aTJLCU6KiT-T"
   },
   "source": [
    "## Zadanie 2  (obowiązkowe, 5pkt.)\n",
    "\n",
    "### Zamodeluj i odpowiedz na pytania.\n",
    "System alarmowy w mieszkaniu, reaguje na włamania oraz, niestety, również na drobne trzęsienia (ziemi). Sąsiedzi John i Mary są umówieni, żeby zadzwonić do właściciela gdy usłyszą alarm. John jest nadgorliwy i bierze różne zdarzenia (np. dzwonek telefonu) za sygnał alarmowy (i wtedy zawsze dzwoni). Mary rozpoznaje alarm poprawnie, lecz często słucha głośnej muzyki i może go w ogóle nie usłyszeć. \n",
    "\n",
    "Sieć przekonań dla systemu alarmowego wygląda następująco:\n",
    "![bsiec.PNG](http://torus.uck.pk.edu.pl/~amarsz/images/bsiec.PNG)\n",
    "\n",
    "__Jakie jest prawdopodobieństwo, że:__\n",
    "1. włączy się alarm?\n",
    "2. doszło do włamanie jeśli wiadom, że włączył się alarm?\n",
    "3. zdarzyło się trzęsienie ziemi jeśli wiadomo, żę włączył się alarm?\n",
    "1. w razie włamania ktoś zadzwoni?\n",
    "2. zawiadomienie o włamaniu jest fałszywe?\n",
    "3. rozległ się alarm, przy czym nie wystąpiło ani trzęsienie ziemi ani włamanie, ale oboje John i Mary zadzwonili? (prawd. bezwarunkowe)"
   ]
  },
  {
   "cell_type": "markdown",
   "metadata": {
    "id": "ZiHzVQYYibOS"
   },
   "source": [
    "TWÓJ PROGRAM:"
   ]
  },
  {
   "cell_type": "code",
   "execution_count": 3,
   "metadata": {
    "colab": {
     "base_uri": "https://localhost:8080/",
     "height": 248
    },
    "executionInfo": {
     "elapsed": 115341,
     "status": "ok",
     "timestamp": 1649549957704,
     "user": {
      "displayName": "Dominik Dziuba",
      "userId": "09139784948394812397"
     },
     "user_tz": -120
    },
    "id": "yXixd4Rotaq9",
    "outputId": "007824ca-4855-4f25-d2a6-25e1401453b0"
   },
   "outputs": [
    {
     "name": "stderr",
     "output_type": "stream",
     "text": [
      "/usr/local/lib/python3.7/dist-packages/ipykernel_launcher.py:20: FutureWarning: In v4.0, pm.sample will return an `arviz.InferenceData` object instead of a `MultiTrace` by default. You can pass return_inferencedata=True or return_inferencedata=False to be safe and silence this warning.\n",
      "Sequential sampling (1 chains in 1 job)\n",
      "BinaryGibbsMetropolis: [ear, bur, alarm, john, mary]\n"
     ]
    },
    {
     "data": {
      "text/html": [
       "\n",
       "<style>\n",
       "    /* Turns off some styling */\n",
       "    progress {\n",
       "        /* gets rid of default border in Firefox and Opera. */\n",
       "        border: none;\n",
       "        /* Needs to be in here for Safari polyfill so background images work as expected. */\n",
       "        background-size: auto;\n",
       "    }\n",
       "    .progress-bar-interrupted, .progress-bar-interrupted::-webkit-progress-bar {\n",
       "        background: #F44336;\n",
       "    }\n",
       "</style>\n"
      ],
      "text/plain": [
       "<IPython.core.display.HTML object>"
      ]
     },
     "metadata": {},
     "output_type": "display_data"
    },
    {
     "data": {
      "text/html": [
       "\n",
       "    <div>\n",
       "      <progress value='201000' class='' max='201000' style='width:300px; height:20px; vertical-align: middle;'></progress>\n",
       "      100.00% [201000/201000 01:53<00:00 Sampling chain 0, 0 divergences]\n",
       "    </div>\n",
       "    "
      ],
      "text/plain": [
       "<IPython.core.display.HTML object>"
      ]
     },
     "metadata": {},
     "output_type": "display_data"
    },
    {
     "name": "stderr",
     "output_type": "stream",
     "text": [
      "Sampling 1 chain for 1_000 tune and 200_000 draw iterations (1_000 + 200_000 draws total) took 114 seconds.\n",
      "Only one chain was sampled, this makes it impossible to run some convergence checks\n"
     ]
    },
    {
     "name": "stdout",
     "output_type": "stream",
     "text": [
      "Pytanie 1:  0.002385\n",
      "Pytanie 2:  0.3668763102725367\n",
      "Pytanie 3:  0.24737945492662475\n",
      "Pytanie 4:  0.9130434782608695\n",
      "Pytanie 5:  0.06048064219081555\n",
      "Pytanie 6:  0.00059\n"
     ]
    }
   ],
   "source": [
    "#YOUR CODE HERE\n",
    "\n",
    "import pymc3 as pm\n",
    "import numpy as np\n",
    "\n",
    "with pm.Model() as alarm:\n",
    "    \n",
    "    earthquake = pm.Bernoulli('ear', 0.002)\n",
    "    burglary = pm.Bernoulli('bur', 0.001)\n",
    "    \n",
    "    p_alarm = pm.Deterministic('p_alarm', pm.math.switch(burglary, pm.math.switch(earthquake, 0.95, 0.94), pm.math.switch(earthquake, 0.29, 0.001)))\n",
    "    alarm = pm.Bernoulli('alarm', p_alarm)\n",
    "    \n",
    "    p_John = pm.Deterministic('p_John', pm.math.switch(alarm, 0.9, 0.05))\n",
    "    john = pm.Bernoulli('john', p_John)\n",
    "    p_Mary = pm.Deterministic('p_Mary', pm.math.switch(alarm, 0.7, 0.01))\n",
    "    mary = pm.Bernoulli('mary', p_Mary)\n",
    "    \n",
    "    ilosc_symulacji = 200000\n",
    "    trace = pm.sample(ilosc_symulacji, chains=1)\n",
    "    \n",
    "    zad_1 = trace['alarm'].sum() / ilosc_symulacji\n",
    "    print('Pytanie 1: ', zad_1)\n",
    "    \n",
    "    zad_2 = (trace['alarm'] * trace['bur']).sum() / trace['alarm'].sum()\n",
    "    print('Pytanie 2: ', zad_2) \n",
    "    \n",
    "    zad_3 = (trace['alarm'] * trace['ear']).sum() / trace['alarm'].sum()\n",
    "    print('Pytanie 3: ', zad_3) \n",
    "    \n",
    "    zad_4 = ((trace['john'] + trace['mary'] - trace['john'] * trace['mary']) * trace['bur']).sum() / trace['bur'].sum()\n",
    "    print('Pytanie 4: ', zad_4)\n",
    "    \n",
    "    zad_5 = ((np.logical_or(trace['mary'], trace['john'])) * np.logical_not(trace['bur'])).sum() / np.logical_not(trace['bur']).sum()\n",
    "    print('Pytanie 5: ', zad_5)\n",
    "    \n",
    "    zad_6 = (trace['alarm'] * trace['john'] * trace['mary'] * np.logical_not(trace['bur']) * np.logical_not(trace['ear'])).sum() / ilosc_symulacji\n",
    "    print('Pytanie 6: ', zad_6)\n",
    "    "
   ]
  },
  {
   "cell_type": "markdown",
   "metadata": {
    "id": "QKWpMlq9iz-A"
   },
   "source": [
    "### ODPOWIEDŹ:"
   ]
  },
  {
   "cell_type": "markdown",
   "metadata": {
    "id": "D4QnaFVYi8bw"
   },
   "source": [
    "YOUR ANSWER HERE\n",
    "\n",
    "Pytanie 1:  0.002385\n",
    "\n",
    "Pytanie 2:  0.3668763102725367\n",
    "\n",
    "Pytanie 3:  0.24737945492662475\n",
    "\n",
    "Pytanie 4:  0.9130434782608695\n",
    "\n",
    "Pytanie 5:  0.06048064219081555\n",
    "\n",
    "Pytanie 6:  0.00059\n",
    "1. Prawdopodobieństwo, że włączy się alarm: 0.002385\n",
    "\n",
    "\n",
    "2.  Prawdopodobieństwo, że doszło do włamanie jeśli wiadom, że włączył się alarm: 0.3668763102725367\n",
    "\n",
    "3.  Prawdopodobieństwo, że zdarzyło się trzęsienie ziemi jeśli wiadomo, żę włączył się alarm: 0.24737945492662475\n",
    "\n",
    "4.  Prawdopodobieństwo, że w razie włamania ktoś zadzwoni: 0.9130434782608695\n",
    "\n",
    "5.  Prawdopodobieństwo, że zawiadomienie o włamaniu jest fałszywe: 0.06048064219081555\n",
    "\n",
    "6.  Prawdopodobieństwo, że rozległ się alarm, przy czym nie wystąpiło ani trzęsienie ziemi ani włamanie, ale oboje John i Mary zadzwonili? (prawd. bezwarunkowe: 0.00059"
   ]
  },
  {
   "cell_type": "markdown",
   "metadata": {
    "id": "cZrTqu_LC5p_"
   },
   "source": [
    "__UWAGA:__ Zwróć uwagę na wielkości podanych prawdopodobieńst aby dobarć odpowiednią liczbę symulacji."
   ]
  },
  {
   "cell_type": "markdown",
   "metadata": {
    "id": "C57dALyNj4Se"
   },
   "source": [
    "&copy; Katedra Informatyki, Politechnika Krakowska"
   ]
  }
 ],
 "metadata": {
  "colab": {
   "collapsed_sections": [],
   "name": "Bayess_Zadania.ipynb",
   "provenance": []
  },
  "kernelspec": {
   "display_name": "Python 3",
   "name": "python3"
  }
 },
 "nbformat": 4,
 "nbformat_minor": 0
}
