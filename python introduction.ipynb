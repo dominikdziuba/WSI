{
 "cells": [
  {
   "cell_type": "markdown",
   "metadata": {
    "id": "AMMXLENOd7V-"
   },
   "source": [
    "# Wstęp do Sztucznej Inteligencji - rok akademicki 2021/2022\n",
    "\n",
    "Przed rozpoczęciem pracy z notatnikiem zmień jego nazwę zgodnie z wzorem: `NrAlbumu_Nazwisko_Imie_PoprzedniaNazwa`.\n",
    "\n",
    "Przed wysłaniem notatnika upewnij się, że rozwiązałeś wszystkie zadania/ćwiczenia."
   ]
  },
  {
   "cell_type": "markdown",
   "metadata": {
    "id": "4ZZF68t-kiQ8"
   },
   "source": [
    "# Temat: Wprowadzenie do języka Python cz. I\n",
    "Zapoznaj się z treścią niniejszego notatnika czytając i wykonując go komórka po komórce. Wykonaj napotkane zadania/ćwiczenia.\n",
    "\n",
    "Dokumentacja Python 3 (https://docs.python.org/3/)."
   ]
  },
  {
   "cell_type": "markdown",
   "metadata": {
    "id": "8ODf7GQ2eLho"
   },
   "source": [
    "## Komentarze"
   ]
  },
  {
   "cell_type": "code",
   "execution_count": null,
   "metadata": {
    "id": "BpX74XmK_BDL"
   },
   "outputs": [],
   "source": [
    "# to jest komentarz jednolinijkowy, interpreter pomija linie zaczynające się od '#'\n",
    "# Wykonaj komórkę (Shift+Enter) i zobacz że nic się nie wykona"
   ]
  },
  {
   "cell_type": "code",
   "execution_count": null,
   "metadata": {
    "id": "xXycW_K-_H9Q"
   },
   "outputs": [],
   "source": [
    "\"\"\"\n",
    "To jest komentarz wielolinijkowy, wszystko pomiędzy trzema znakami cudzysłowia (alternatywnie trzema apostrofami)\n",
    "traktowane jest jako łańcuch znaków. Jeśli nie zostanie on przypisany do żadnej zmiennej to będzie traktowany jako \n",
    "komentarz. Często taki sposób wykorzystywany jest do dokumentowania kodu.\n",
    "\"\"\""
   ]
  },
  {
   "cell_type": "markdown",
   "metadata": {
    "id": "9B7YUblnktrz"
   },
   "source": [
    "## Funkcja `print()`\n",
    "Funkcja `print()` przyjmuje dowolną liczbę argumentów, dowolnego typu (no nie do końca dowolnego) i ma też parę parametrów/opcji, ale o tym innym razem. \n",
    "\n",
    "Funkcja `print` jest tak zwaną funkcją wbudowaną, inne dostępne i czasami przydatne funkcje wbudowane https://docs.python.org/3/library/functions.html."
   ]
  },
  {
   "cell_type": "code",
   "execution_count": null,
   "metadata": {
    "id": "a4KnkVtW_jWi"
   },
   "outputs": [],
   "source": [
    "print('Hello')\n",
    "print('Hello',1,3,[1,3],2+4j)\n",
    "print('Hello',1,3,[1,3],2+4j, sep=';',end=':')"
   ]
  },
  {
   "cell_type": "markdown",
   "metadata": {
    "id": "5xPZCNLQ2zKO"
   },
   "source": [
    "## Podstawowe typy danych\n",
    "Python jest językiem dynamicznie typowanym, co oznacza, że nie ma potrzeby jawnego określania typu danej zmiennej, interpreter zrobi to za nas sam. Co więcej, Python jest językiem w pełni obiektowy, w którym również zmienne są obiektami."
   ]
  },
  {
   "cell_type": "markdown",
   "metadata": {
    "id": "VWilOQkE_yA8"
   },
   "source": [
    "### Typy liczbowe: `int`, `float`, `complex`."
   ]
  },
  {
   "cell_type": "code",
   "execution_count": null,
   "metadata": {
    "id": "f_Rc7P6V_8b5"
   },
   "outputs": [],
   "source": [
    "# liczba całkowita: int\n",
    "a = 2    # przypisujemy zmiennej 'a' liczbę całkowitą 2\n",
    "print(a) # wydruk zmiennej a\n",
    "type(a)  # wbudowana funkcja type() zwraca typ danego obiektu"
   ]
  },
  {
   "cell_type": "markdown",
   "metadata": {
    "id": "lFD4AIrBffbv"
   },
   "source": [
    "Przykładowe metody obiektu `int`. Wciskając po napisaniu kropki `Tab` wyświetlone zostaną dostępne pola i metody danego obiektu."
   ]
  },
  {
   "cell_type": "code",
   "execution_count": 5,
   "metadata": {
    "id": "SNYidx34AHvA"
   },
   "outputs": [
    {
     "data": {
      "text/plain": [
       "2"
      ]
     },
     "execution_count": 5,
     "metadata": {},
     "output_type": "execute_result"
    }
   ],
   "source": [
    "a=2\n",
    "a.bit_length()"
   ]
  },
  {
   "cell_type": "code",
   "execution_count": 6,
   "metadata": {
    "id": "udyrHlfIAKZK"
   },
   "outputs": [
    {
     "name": "stdout",
     "output_type": "stream",
     "text": [
      "2.5\n"
     ]
    },
    {
     "data": {
      "text/plain": [
       "float"
      ]
     },
     "execution_count": 6,
     "metadata": {},
     "output_type": "execute_result"
    }
   ],
   "source": [
    "# liczba zmiennoprzecinkowa: float\n",
    "b = 2.5\n",
    "print(b)\n",
    "type(b)"
   ]
  },
  {
   "cell_type": "code",
   "execution_count": 7,
   "metadata": {
    "id": "dIAyZ0ZmAOCM"
   },
   "outputs": [
    {
     "data": {
      "text/plain": [
       "False"
      ]
     },
     "execution_count": 7,
     "metadata": {},
     "output_type": "execute_result"
    }
   ],
   "source": [
    "b.is_integer()"
   ]
  },
  {
   "cell_type": "code",
   "execution_count": 10,
   "metadata": {
    "id": "ob6Ru1WuARs-"
   },
   "outputs": [
    {
     "name": "stdout",
     "output_type": "stream",
     "text": [
      "(2+4j)\n"
     ]
    },
    {
     "data": {
      "text/plain": [
       "complex"
      ]
     },
     "execution_count": 10,
     "metadata": {},
     "output_type": "execute_result"
    }
   ],
   "source": [
    "# liczba zespolona: complex\n",
    "z = 2+4j # j jednostka urojona, piszemy z prawej strony bez spacji\n",
    "print(z)\n",
    "type(z)\n"
   ]
  },
  {
   "cell_type": "code",
   "execution_count": 8,
   "metadata": {
    "id": "KUNPbDs-AVpB"
   },
   "outputs": [
    {
     "ename": "NameError",
     "evalue": "name 'z' is not defined",
     "output_type": "error",
     "traceback": [
      "\u001b[1;31m---------------------------------------------------------------------------\u001b[0m",
      "\u001b[1;31mNameError\u001b[0m                                 Traceback (most recent call last)",
      "\u001b[1;32m~\\AppData\\Local\\Temp/ipykernel_10956/588620228.py\u001b[0m in \u001b[0;36m<module>\u001b[1;34m\u001b[0m\n\u001b[1;32m----> 1\u001b[1;33m \u001b[0mz\u001b[0m\u001b[1;33m.\u001b[0m\u001b[0mimag\u001b[0m\u001b[1;33m\u001b[0m\u001b[1;33m\u001b[0m\u001b[0m\n\u001b[0m",
      "\u001b[1;31mNameError\u001b[0m: name 'z' is not defined"
     ]
    }
   ],
   "source": [
    "z.imag"
   ]
  },
  {
   "cell_type": "markdown",
   "metadata": {
    "id": "l_vcZLlxh19H"
   },
   "source": [
    "### Typ `str` (łańcuch znaków).\n",
    "Domyślnym kodowaniem znaków w Python 3 jest `utf8`."
   ]
  },
  {
   "cell_type": "code",
   "execution_count": null,
   "metadata": {
    "id": "boa60bu3AkZJ"
   },
   "outputs": [],
   "source": [
    "# tekst (string) definiujemy w apostrofach lub cudzysłowach \n",
    "napis1 = 'wstęp do sztucznej inteligencji,'\n",
    "napis2 = \"wstęp do sztucznej inteligencji.\"\n",
    "print(napis1, napis2)\n",
    "print(type(napis1))\n",
    "type(napis2)"
   ]
  },
  {
   "cell_type": "markdown",
   "metadata": {
    "id": "l-OhAVorh9ow"
   },
   "source": [
    "Domyślnie rozpoznawane są również znaki specjalne takie jak `\\n`, `\\t` itp. Aby potraktować znaki specjalne jako zwykłe znaki trzeba dodać jeszcze jeden znak `\\` lub dodać przed apostrofem `r`."
   ]
  },
  {
   "cell_type": "code",
   "execution_count": 11,
   "metadata": {
    "id": "ESWb7yK2A2mX"
   },
   "outputs": [
    {
     "name": "stdout",
     "output_type": "stream",
     "text": [
      "wstęp do\tsztucznej\n",
      "inteligencji\n"
     ]
    }
   ],
   "source": [
    "print('wstęp do\\tsztucznej\\ninteligencji')"
   ]
  },
  {
   "cell_type": "code",
   "execution_count": 12,
   "metadata": {
    "id": "7sMWKYUKA2tJ"
   },
   "outputs": [
    {
     "name": "stdout",
     "output_type": "stream",
     "text": [
      "wstęp do\\tsztucznej\\ninteligencji\n",
      "wstęp do\\tsztucznej\\ninteligencji\n"
     ]
    }
   ],
   "source": [
    "print('wstęp do\\\\tsztucznej\\\\ninteligencji')\n",
    "print(r'wstęp do\\tsztucznej\\ninteligencji')"
   ]
  },
  {
   "cell_type": "markdown",
   "metadata": {
    "id": "OJCwrDffiEd9"
   },
   "source": [
    "Wbudowana funkcja `len` zwracająca długość łańcucha znaków."
   ]
  },
  {
   "cell_type": "code",
   "execution_count": null,
   "metadata": {
    "id": "wB-LYxThBD_J"
   },
   "outputs": [],
   "source": [
    "print(napis1)\n",
    "len(napis1)"
   ]
  },
  {
   "cell_type": "markdown",
   "metadata": {
    "id": "aTJLCU6KiT-T"
   },
   "source": [
    "Z łańcucha znaków możemy wybierać dowolny element za pomocą metody `__getitem__` lub prościej za pomocą nawiasów `[]`."
   ]
  },
  {
   "cell_type": "code",
   "execution_count": 13,
   "metadata": {
    "id": "Mfbv6i25BPSu"
   },
   "outputs": [
    {
     "name": "stdout",
     "output_type": "stream",
     "text": [
      "a\n",
      "a\n"
     ]
    }
   ],
   "source": [
    "s = 'napisssss'\n",
    "print(s.__getitem__(1))  #numeracja elementów od 0\n",
    "print(s[1])"
   ]
  },
  {
   "cell_type": "markdown",
   "metadata": {
    "id": "ZiHzVQYYibOS"
   },
   "source": [
    "Obiekt klasy `str` jest obiektem niemodyfikowalnym, tzn. nie można przypisać nowego znaku na danej pozycji."
   ]
  },
  {
   "cell_type": "code",
   "execution_count": null,
   "metadata": {
    "id": "naqMZp8xBXDu"
   },
   "outputs": [],
   "source": [
    "s[2] = 'g'"
   ]
  },
  {
   "cell_type": "markdown",
   "metadata": {
    "id": "QKWpMlq9iz-A"
   },
   "source": [
    "Nie można również podać indeksu większego niż `ilość znaków - 1`."
   ]
  },
  {
   "cell_type": "code",
   "execution_count": null,
   "metadata": {
    "id": "BpX4MOgUBdc3"
   },
   "outputs": [],
   "source": [
    "s[100]"
   ]
  },
  {
   "cell_type": "markdown",
   "metadata": {
    "id": "D4QnaFVYi8bw"
   },
   "source": [
    "#### Slicing (\"plasterkowanie\")"
   ]
  },
  {
   "cell_type": "code",
   "execution_count": 18,
   "metadata": {
    "id": "L6mCt_LpB0U2"
   },
   "outputs": [
    {
     "name": "stdout",
     "output_type": "stream",
     "text": [
      "apiss\n",
      "ais\n",
      "s\n",
      "ss\n"
     ]
    }
   ],
   "source": [
    "# wybieranie fragmentu \n",
    "print(s[1:6])\n",
    "# wybieranie znaków z krokiem\n",
    "print(s[1:6:2])\n",
    "# ostatnie element ciągu znaków\n",
    "print(s[-1])\n",
    "# od tyłu\n",
    "print(s[-4:-2])"
   ]
  },
  {
   "cell_type": "markdown",
   "metadata": {
    "id": "PE1roTj0jGUJ"
   },
   "source": [
    "### Typ `tuple` (krotka)\n",
    "Krotka to zestawienie kilku obiektów w jeden obiekt. Mogą to być obiekty różnych typów."
   ]
  },
  {
   "cell_type": "code",
   "execution_count": 20,
   "metadata": {
    "id": "zb3TRAR9CA8Y"
   },
   "outputs": [
    {
     "name": "stdout",
     "output_type": "stream",
     "text": [
      "(1, 2, 3, 4)\n",
      "(1, 3.5, 'a', (1, 2, 3, 4))\n",
      "4\n"
     ]
    },
    {
     "data": {
      "text/plain": [
       "tuple"
      ]
     },
     "execution_count": 20,
     "metadata": {},
     "output_type": "execute_result"
    }
   ],
   "source": [
    "a = (1, 2, 3, 4)\n",
    "b = (1, 3.5, 'a', a)\n",
    "print(a)\n",
    "print(b)\n",
    "print(len(a))\n",
    "type(a)"
   ]
  },
  {
   "cell_type": "markdown",
   "metadata": {
    "id": "s_0-DGvbjdAO"
   },
   "source": [
    "Elementy krotki można rozpakować do pojedynczych zmiennych. Bardzo przydatne przy definiowaniu funkcji zwracających wiele obiektów."
   ]
  },
  {
   "cell_type": "code",
   "execution_count": 21,
   "metadata": {
    "id": "_3DQ1FhSCIN-"
   },
   "outputs": [
    {
     "name": "stdout",
     "output_type": "stream",
     "text": [
      "1\n",
      "a\n",
      "abc\n",
      "(1, 'a', 'abc')\n"
     ]
    }
   ],
   "source": [
    "# rozpakowywanie krotki\n",
    "a,b,c = (1, 'a', 'abc')\n",
    "d = (1, 'a', 'abc')\n",
    "print(a)\n",
    "print(b)\n",
    "print(c)\n",
    "print(d)"
   ]
  },
  {
   "cell_type": "markdown",
   "metadata": {
    "id": "jn0KqUF5CQfH"
   },
   "source": [
    "Podobnie jak łańcuch znaków, krotka jest obiektem niemodyfikowalnym."
   ]
  },
  {
   "cell_type": "code",
   "execution_count": 23,
   "metadata": {
    "id": "k17CspahCS4-"
   },
   "outputs": [
    {
     "name": "stdout",
     "output_type": "stream",
     "text": [
      "1\n"
     ]
    }
   ],
   "source": [
    "k = (1, 'a')\n",
    "print(k[0])\n",
    "#k[0]='b'"
   ]
  },
  {
   "cell_type": "markdown",
   "metadata": {
    "id": "bDsMZnVxCZHb"
   },
   "source": [
    "### Typ `list` (lista)\n",
    "Lista może zawierać obiekty dowolnych typów i w odróżnieniu do krotki jej elementy można modyfikować."
   ]
  },
  {
   "cell_type": "code",
   "execution_count": 24,
   "metadata": {
    "id": "2Qr_1zeDCS9g"
   },
   "outputs": [
    {
     "name": "stdout",
     "output_type": "stream",
     "text": [
      "[1, 2, '3', [1, 3]]\n",
      "4\n"
     ]
    },
    {
     "data": {
      "text/plain": [
       "list"
      ]
     },
     "execution_count": 24,
     "metadata": {},
     "output_type": "execute_result"
    }
   ],
   "source": [
    "l = [1, 2, '3', [1, 3]]\n",
    "print(l)\n",
    "print(len(l))\n",
    "type(l)"
   ]
  },
  {
   "cell_type": "code",
   "execution_count": 25,
   "metadata": {
    "id": "zTypDFL9CTCM"
   },
   "outputs": [
    {
     "name": "stdout",
     "output_type": "stream",
     "text": [
      "[1, 2, '3', [1, 3]]\n",
      "1\n",
      "['nowe_0', 2, '3', [1, 3]]\n"
     ]
    }
   ],
   "source": [
    "print(l)\n",
    "print(l[0])\n",
    "l[0] = 'nowe_0'\n",
    "print(l)"
   ]
  },
  {
   "cell_type": "markdown",
   "metadata": {
    "id": "hnCwTM9jCm7g"
   },
   "source": [
    "__Uwaga__: Kopiowanie list jak również wszystkich innych obiektów w języku Python odbywa się poprzez referencje tzn. nie tworzony jest nowy obiekt a jedynie nadawana jest tak jakby nowa etykieta to tego samego obiektu."
   ]
  },
  {
   "cell_type": "code",
   "execution_count": 31,
   "metadata": {
    "id": "nwrFGG_iCTAL"
   },
   "outputs": [
    {
     "name": "stdout",
     "output_type": "stream",
     "text": [
      "[1, -5, 4] [1, 2, 4]\n"
     ]
    }
   ],
   "source": [
    "l = [1,2,4]\n",
    "#p = l\n",
    "print(p,l)"
   ]
  },
  {
   "cell_type": "code",
   "execution_count": 33,
   "metadata": {
    "id": "FFmh5GImCS71"
   },
   "outputs": [
    {
     "name": "stdout",
     "output_type": "stream",
     "text": [
      "[1, -6, 4] [1, 2, 4]\n"
     ]
    }
   ],
   "source": [
    "p=[1,2,4]\n",
    "p[1] = -6\n",
    "print(p,l)"
   ]
  },
  {
   "cell_type": "markdown",
   "metadata": {
    "id": "DTVoH__fCwtK"
   },
   "source": [
    "Aby skopiować tworząc nowy obiekt należy użyć metody `copy()`."
   ]
  },
  {
   "cell_type": "code",
   "execution_count": 34,
   "metadata": {
    "id": "yHbrbma7CvWY"
   },
   "outputs": [
    {
     "name": "stdout",
     "output_type": "stream",
     "text": [
      "[1, 2, 4] [1, 2, 4]\n",
      "[1, 100, 4] [1, 2, 4]\n"
     ]
    }
   ],
   "source": [
    "l = [1,2,4]\n",
    "p = l.copy()\n",
    "print(p,l)\n",
    "p[1]= 100\n",
    "print(p,l)"
   ]
  },
  {
   "cell_type": "markdown",
   "metadata": {
    "id": "cZrTqu_LC5p_"
   },
   "source": [
    "Zamiast `copy` można alternatywnie użyć `[:]` co oznacza kopiowanie element po elemencie."
   ]
  },
  {
   "cell_type": "code",
   "execution_count": null,
   "metadata": {
    "id": "vxIfoRwiCvbA"
   },
   "outputs": [],
   "source": [
    "l = [1,2,3]\n",
    "p[:] = l[:]\n",
    "print(p,l)\n",
    "p[0] = -100\n",
    "print(p,l)"
   ]
  },
  {
   "cell_type": "markdown",
   "metadata": {
    "id": "2rom-XE7DNTw"
   },
   "source": [
    "Dodawanie nowych obiektów do listy (rozszerzanie)."
   ]
  },
  {
   "cell_type": "code",
   "execution_count": null,
   "metadata": {
    "id": "xlh_MY4OCvir"
   },
   "outputs": [],
   "source": [
    "p = [1,2,3]\n",
    "# dodawanie na końcu\n",
    "p.append('nowy_k')\n",
    "p"
   ]
  },
  {
   "cell_type": "code",
   "execution_count": null,
   "metadata": {
    "id": "6fuj6TkVCve9"
   },
   "outputs": [],
   "source": [
    "# dodawanie w konkretnym miejscu\n",
    "p.insert(1,'nowy_i') # podajemy miejsce wstawienia\n",
    "p"
   ]
  },
  {
   "cell_type": "code",
   "execution_count": null,
   "metadata": {
    "id": "uvBJeVPVCvZd"
   },
   "outputs": [],
   "source": [
    "# rozrzerzanie o więcej niż jeden element\n",
    "p.extend([10,32])\n",
    "p"
   ]
  },
  {
   "cell_type": "markdown",
   "metadata": {
    "id": "xImud91SDXy5"
   },
   "source": [
    "### Typ `set` (zbiór)."
   ]
  },
  {
   "cell_type": "code",
   "execution_count": null,
   "metadata": {
    "id": "14YgPXYYDWuM"
   },
   "outputs": [],
   "source": [
    "z = {1,2,3}\n",
    "type(z)"
   ]
  },
  {
   "cell_type": "markdown",
   "metadata": {
    "id": "CMT5t9NWDf2I"
   },
   "source": [
    "Tworzenie zbioru z listy (unikalne wartości)."
   ]
  },
  {
   "cell_type": "code",
   "execution_count": null,
   "metadata": {
    "id": "CNSB1dLADWxn"
   },
   "outputs": [],
   "source": [
    "p = [1,2,3,1,3,5,1]\n",
    "print(p)\n",
    "sp = set(p)\n",
    "sp"
   ]
  },
  {
   "cell_type": "markdown",
   "metadata": {
    "id": "QKxbhRDlDma9"
   },
   "source": [
    "### Typ `dic` (Słownik, {klucz:wartość})."
   ]
  },
  {
   "cell_type": "code",
   "execution_count": null,
   "metadata": {
    "id": "TWK5iPz9De9G"
   },
   "outputs": [],
   "source": [
    "d = {'Nr': 1234, 'Imię': 'Jack', 'Nazwisko': 'Sparrow',}\n",
    "print(d)\n",
    "type(d)"
   ]
  },
  {
   "cell_type": "code",
   "execution_count": null,
   "metadata": {
    "id": "BqfJsgQ_DfCG"
   },
   "outputs": [],
   "source": [
    "# do elementów słownika odwołujemy się poprzez klucze\n",
    "print(d['Nr'])\n",
    "print(d['Imię'])\n",
    "print(d['Nazwisko'])"
   ]
  },
  {
   "cell_type": "code",
   "execution_count": null,
   "metadata": {
    "id": "D9aTKifmDfE9"
   },
   "outputs": [],
   "source": [
    "# klucze w słowniku\n",
    "d.keys()"
   ]
  },
  {
   "cell_type": "code",
   "execution_count": null,
   "metadata": {
    "id": "0wEUdKz3DfH4"
   },
   "outputs": [],
   "source": [
    "# dodawanie nowego pola w słowniku\n",
    "d['Ocena'] = 2.0\n",
    "d"
   ]
  },
  {
   "cell_type": "markdown",
   "metadata": {
    "id": "hgZDDTSeD48V"
   },
   "source": [
    "### Typ `bool` (prawda, fałsz)."
   ]
  },
  {
   "cell_type": "code",
   "execution_count": null,
   "metadata": {
    "id": "hfbJP4U0De__"
   },
   "outputs": [],
   "source": [
    "prawda = True\n",
    "falsz = False\n",
    "type(prawda)"
   ]
  },
  {
   "cell_type": "markdown",
   "metadata": {
    "id": "mwwEMQ6bEFB3"
   },
   "source": [
    "## Operatory arytmetyczne (`+, -, *, /, //, **, %`)"
   ]
  },
  {
   "cell_type": "code",
   "execution_count": null,
   "metadata": {
    "id": "bNd1ueh0D3q9"
   },
   "outputs": [],
   "source": [
    "# dwie liczby typu int\n",
    "a = 2\n",
    "b = 5\n",
    "print(a+b)\n",
    "print(a-b)\n",
    "print(a*b)\n",
    "print(a/b) # rzutuje na float\n",
    "print(a//b) # int\n",
    "print(a**b) # potęgowanie\n",
    "print(a%b) # reszta z dzielenia, modulo"
   ]
  },
  {
   "cell_type": "markdown",
   "metadata": {
    "id": "XDBnY_yVERg_"
   },
   "source": [
    "Operatory arytmetyczne definiowane są również dla prawie wszystkich typów danych nie tylko liczbowych. Co ważne, Python jest silnie typowany co oznacza m.in., że nie można dowolnie łączyć typów w operacjach arytmetycznych."
   ]
  },
  {
   "cell_type": "code",
   "execution_count": null,
   "metadata": {
    "id": "RQ1XK31iD35t"
   },
   "outputs": [],
   "source": [
    "2.5 + 'a'"
   ]
  },
  {
   "cell_type": "markdown",
   "metadata": {
    "id": "iAJfsASVEamD"
   },
   "source": [
    "Jednak dla niektórych typów działa tak zwana konwersja niejawna (rzutowanie na obiekt klasy \"nadrzędnej\")"
   ]
  },
  {
   "cell_type": "code",
   "execution_count": null,
   "metadata": {
    "id": "YUW94PY4D333"
   },
   "outputs": [],
   "source": [
    "a = 2.5 + (2-3j)\n",
    "print(a)\n",
    "type(a)"
   ]
  },
  {
   "cell_type": "markdown",
   "metadata": {
    "id": "9VboLNcREnTo"
   },
   "source": [
    "## Biblioteka matematyczna `math`.\n",
    "W Python wbudowane są niektóre podstawowe finkcje matematyczne, taki jak `abs`, `min`, `max`, `sum`, `pow`. Inne znaleźć można w bibliotece (module) `math`. Import bibliotek (modułów, pakietów) w języku Python dokonuje się za pomocą słowa kluczowego `import`."
   ]
  },
  {
   "cell_type": "code",
   "execution_count": null,
   "metadata": {
    "id": "Xn4sZdJUD300"
   },
   "outputs": [],
   "source": [
    "print(min(1,2,-4,2))\n",
    "print(max(2, 1.4, 3, 5.5))\n",
    "abs(-4)"
   ]
  },
  {
   "cell_type": "code",
   "execution_count": null,
   "metadata": {
    "id": "Afvi_4ZWD3w6"
   },
   "outputs": [],
   "source": [
    "# aby wczytać pakiet math wpisujemy\n",
    "import math\n",
    "# możemy zaimportowac tylko wybrane funkcje\n",
    "from math import sin, cos"
   ]
  },
  {
   "cell_type": "code",
   "execution_count": null,
   "metadata": {
    "id": "3r9YGyXYD3uu"
   },
   "outputs": [],
   "source": [
    "math.log(1)"
   ]
  },
  {
   "cell_type": "code",
   "execution_count": null,
   "metadata": {
    "id": "eNyLT7_SDW83"
   },
   "outputs": [],
   "source": [
    "sin(math.radians(90))"
   ]
  },
  {
   "cell_type": "markdown",
   "metadata": {
    "id": "5hza3UgVFBqn"
   },
   "source": [
    "## Zadanie 1:\n",
    "Sprawdź i opisz działanie operatorów arytmetycznych dla typu `list`."
   ]
  },
  {
   "cell_type": "markdown",
   "metadata": {
    "id": "sceegWUfFGR-"
   },
   "source": [
    "YOUR ANSWER HERE"
   ]
  },
  {
   "cell_type": "markdown",
   "metadata": {
    "id": "yjJAZPBoFVWS"
   },
   "source": [
    "## Zadanie 2:\n",
    "Sprawdź i opisz działanie operatorów arytmetycznych dla typu `str`."
   ]
  },
  {
   "cell_type": "markdown",
   "metadata": {
    "id": "OWHk7imgFVii"
   },
   "source": [
    "YOUR ANSWER HERE"
   ]
  },
  {
   "cell_type": "markdown",
   "metadata": {
    "id": "ri36enAAFgjs"
   },
   "source": [
    "## Operatory logiczne\n",
    "Operatory porównania: `==`, `>`, `>=`, `<`, `<=`, `!=`.\n",
    "\n",
    "Spójniki logiczne: `and`, `or`.\n",
    "\n",
    "Zaprzeczenie: `not`.\n",
    "\n",
    "Zawsze zwracany jest typ `bool` (True, False)."
   ]
  },
  {
   "cell_type": "code",
   "execution_count": null,
   "metadata": {
    "id": "0ndjV3YVFAqi"
   },
   "outputs": [],
   "source": [
    "print(2==3)\n",
    "print(2!=3)\n",
    "print(2<3)\n",
    "a = 4.5\n",
    "b = 4\n",
    "print(not 4<=5)\n",
    "print(a>b and a<b)\n",
    "print(a>b and a<b or 3>2)  # (a>b and a<b) or 3>2"
   ]
  },
  {
   "cell_type": "markdown",
   "metadata": {
    "id": "7KQS-nHhFpBc"
   },
   "source": [
    "Porównywać można dowolne obiekty (dla których zdefiniowane są odpowiednie operatory) np. listy."
   ]
  },
  {
   "cell_type": "code",
   "execution_count": null,
   "metadata": {
    "id": "EMZi9-wkFAx8"
   },
   "outputs": [],
   "source": [
    "print([1,3,4]==[3,6,7])\n",
    "print([1,3,4]==[1,3,4])\n",
    "print([1,3,4]<[3,6,7])\n",
    "print([1,3,4]<[1,1,7]) #tzw. relacja słownikowa, sprawdza pierwszy element, jezeli równe to dopiero nastepny"
   ]
  },
  {
   "cell_type": "markdown",
   "metadata": {
    "id": "7bT1TtQ2Fyw3"
   },
   "source": [
    "### Operatory `in`, `not in` oraz `is`, `is not`."
   ]
  },
  {
   "cell_type": "code",
   "execution_count": null,
   "metadata": {
    "id": "PC0djHYtFA1z"
   },
   "outputs": [],
   "source": [
    "print(1 in [1,2,3])\n",
    "print('a' in 'informatyka')\n",
    "print('a' not in 'informatyka')"
   ]
  },
  {
   "cell_type": "code",
   "execution_count": null,
   "metadata": {
    "id": "pXLXuGMCFBA2"
   },
   "outputs": [],
   "source": [
    "a = 2\n",
    "b = 3\n",
    "c = 2\n",
    "print(a is b)\n",
    "print(a is c)\n",
    "print(b is not c)\n",
    "d = None  # None oznacza 'nic', pusty obiekt\n",
    "print(d is None)"
   ]
  },
  {
   "cell_type": "markdown",
   "metadata": {
    "id": "_gXBuKWAF-iw"
   },
   "source": [
    "## Instrukcje sterujące"
   ]
  },
  {
   "cell_type": "markdown",
   "metadata": {
    "id": "4qSLSxIWGCQt"
   },
   "source": [
    "### Instrukcje: `if`, `if else`, `if elif else`.\n",
    "Składnia języka Python nie posiada sprecyzowanych początków i końców dla funkcji czy bloków kodu oraz żadnych nawiasów służących do zaznaczania, gdzie funkcja lub blok się zaczyna, a gdzie kończy. Jedynym separatorem jest dwukropek `:` i `wcięcia kodu`. Wstawiając wcięcie zaczynamy blok, a kończymy go zmniejszając wielkość wcięcia do poprzedniej wartości. Nie ma żadnych nawiasów, klamer czy słów kluczowych. Oznacza to, że białe znaki (spacje itp.) mają znaczenie i ich stosowanie musi być konsekwentne. "
   ]
  },
  {
   "cell_type": "code",
   "execution_count": null,
   "metadata": {
    "id": "ndFuJ57jFA_H"
   },
   "outputs": [],
   "source": [
    "a=2\n",
    "b=3\n",
    "if a<b:  # jeżeli warunek True to wykonaj instrukcje w bloku (instrukcje z wcięciami (tab))\n",
    "    print(a+b)"
   ]
  },
  {
   "cell_type": "code",
   "execution_count": null,
   "metadata": {
    "id": "Akmd3xuwFA63"
   },
   "outputs": [],
   "source": [
    "a=4\n",
    "b=3\n",
    "if a<b:  # gdy warunek prawdziwy\n",
    "    print(a+b) \n",
    "else:    # gdy warunek fałszywy\n",
    "    print(a-b)"
   ]
  },
  {
   "cell_type": "code",
   "execution_count": null,
   "metadata": {
    "id": "Ob3JUxefFAwH"
   },
   "outputs": [],
   "source": [
    "a=10\n",
    "b=8\n",
    "if a<b:  # gdy warunek prawdziwy\n",
    "    print(a+b) \n",
    "elif a<2*b: # kolejny warunek gdy poprzedni nie jest spełniony\n",
    "    print(a*b)\n",
    "else:    # gdy warunek prawdziwy\n",
    "    print(a-b)"
   ]
  },
  {
   "cell_type": "code",
   "execution_count": null,
   "metadata": {
    "id": "vtqdDlBpFAuf"
   },
   "outputs": [],
   "source": [
    "# warunkiem może być dowolne wyrażenie zwracające True lub False\n",
    "a = 10\n",
    "if a < 20 and a >5:\n",
    "    print(a,a,a, end=' ')\n",
    "    \n",
    "# to samo możemy zapisać prościej\n",
    "if 5 < a < 20:\n",
    "    print(a,a,a, end=' ')"
   ]
  },
  {
   "cell_type": "markdown",
   "metadata": {
    "id": "8yRvNoosGURJ"
   },
   "source": [
    "### Pętla `while`"
   ]
  },
  {
   "cell_type": "code",
   "execution_count": null,
   "metadata": {
    "id": "pX3lNnABFAoA"
   },
   "outputs": [],
   "source": [
    "i=0\n",
    "while i<10:  #sprawdź warunek, jeżeli True wykonuj instrukcje w bloku i znowu sprawdź warunek\n",
    "    print(i, end=' ') \n",
    "    i=i+1  # można krócej i+=1, Uwaga: nie ma operatora i++"
   ]
  },
  {
   "cell_type": "markdown",
   "metadata": {
    "id": "ZCOmVQgFGc5h"
   },
   "source": [
    "### Pętla `for`\n",
    "Pętla `for` w języku Python działa jak pętla `foreach` w niektórych innych językach i składa się z dwóch słów kluczowych `for` oraz `in`."
   ]
  },
  {
   "cell_type": "code",
   "execution_count": null,
   "metadata": {
    "id": "e-AlWduYGPeB"
   },
   "outputs": [],
   "source": [
    "for i in [1,2,6,7]:\n",
    "    print(i, end=' ')"
   ]
  },
  {
   "cell_type": "markdown",
   "metadata": {
    "id": "53HCcRZ0Gl-u"
   },
   "source": [
    "Iterować można nie tylko po listach, ale po wszystkich obiektach \"iterowalnych\" czyli posiadających metodę `__iter__`, np. łańcuch znaków, słownik itp."
   ]
  },
  {
   "cell_type": "code",
   "execution_count": null,
   "metadata": {
    "id": "vk9XCsR7GPbi"
   },
   "outputs": [],
   "source": [
    "for litera in 'informatyka':\n",
    "    print(litera, end=' ')"
   ]
  },
  {
   "cell_type": "code",
   "execution_count": null,
   "metadata": {
    "id": "p-Svfqo1GPY8"
   },
   "outputs": [],
   "source": [
    "dic = {'imie':'Jack', 'nazwisko': 'Sparrow'}\n",
    "for key in dic:\n",
    "    print(key, end=' ')"
   ]
  },
  {
   "cell_type": "markdown",
   "metadata": {
    "id": "92aFJL6zHH18"
   },
   "source": [
    "### `range`, `enumerate`"
   ]
  },
  {
   "cell_type": "markdown",
   "metadata": {
    "id": "0u0Xze79GtQa"
   },
   "source": [
    "Przydatnym obiektem przy używaniu pętli jest obiekt `range`, który w języku Python 3 (inaczej niż w Python 2) zwraca generator. Więcej o generatorach https://docs.python.org/3/glossary.html#term-generator."
   ]
  },
  {
   "cell_type": "code",
   "execution_count": null,
   "metadata": {
    "id": "liKF-xJrGPWA"
   },
   "outputs": [],
   "source": [
    "range(100)  # generator przedziału liczb całkowitych od 0 do 99 (100 elementow)"
   ]
  },
  {
   "cell_type": "code",
   "execution_count": null,
   "metadata": {
    "id": "DaQ-6NHeGx94"
   },
   "outputs": [],
   "source": [
    "range(5,80)  # generator przedziału liczb całkowitych od 5 do 79"
   ]
  },
  {
   "cell_type": "code",
   "execution_count": null,
   "metadata": {
    "id": "ybBKx_vlGyBZ"
   },
   "outputs": [],
   "source": [
    "range(5,80,2)  # generator przedziału liczb całkowitych od 5 do 79 z krokiem 2"
   ]
  },
  {
   "cell_type": "code",
   "execution_count": null,
   "metadata": {
    "id": "zxDXy7n2Gx7r"
   },
   "outputs": [],
   "source": [
    "for el in range(5,99,3):\n",
    "    print(el, end=' ')"
   ]
  },
  {
   "cell_type": "markdown",
   "metadata": {
    "id": "U7SWXlWfHFUI"
   },
   "source": [
    "Równie przydatne jest słowo kluczowe `enumerate`, które dodaje do obiektu iterowanego pozycje elementów."
   ]
  },
  {
   "cell_type": "code",
   "execution_count": null,
   "metadata": {
    "id": "1CmQ35V0Gx5F"
   },
   "outputs": [],
   "source": [
    "enumerate(['a','b','c'])  # z listy ['a','b','c'] otrzymujemu obiekt klasy enumerate postaci [(0,'a'), (1,'b'), (2,'c')]"
   ]
  },
  {
   "cell_type": "code",
   "execution_count": null,
   "metadata": {
    "id": "PjKQTjcAHPch"
   },
   "outputs": [],
   "source": [
    "abc = ['a','b','c']\n",
    "for index, element in enumerate(abc):\n",
    "    print(index, element)"
   ]
  },
  {
   "cell_type": "code",
   "execution_count": null,
   "metadata": {
    "id": "1OsDVEESHPnC"
   },
   "outputs": [],
   "source": [
    "# możliwe jest również coś takiego \n",
    "abc = [[1,1],[2,1],[3,1]]\n",
    "for x, y in abc:\n",
    "    print(x,y)"
   ]
  },
  {
   "cell_type": "markdown",
   "metadata": {
    "id": "GXRlaladHdO_"
   },
   "source": [
    "### Słowa kluczowe `break`, `continue`"
   ]
  },
  {
   "cell_type": "code",
   "execution_count": null,
   "metadata": {
    "id": "F9eILcYHHPq4"
   },
   "outputs": [],
   "source": [
    "# przerywanie pętli while\n",
    "i=0\n",
    "while True:\n",
    "    print(i, end=' ')\n",
    "    i+=1\n",
    "    if i>10:\n",
    "        break"
   ]
  },
  {
   "cell_type": "code",
   "execution_count": null,
   "metadata": {
    "id": "BUtm1t24HPkj"
   },
   "outputs": [],
   "source": [
    "# pomijanie iteracji w pętli while\n",
    "i=0\n",
    "while True:\n",
    "    if i % 3 == 0:\n",
    "        i+=1\n",
    "        continue\n",
    "    print(i, end=' ')\n",
    "    i+=1\n",
    "    if i>10:\n",
    "        break"
   ]
  },
  {
   "cell_type": "code",
   "execution_count": null,
   "metadata": {
    "id": "1hdyyBIqHPi4"
   },
   "outputs": [],
   "source": [
    "# przerwanie pętli for\n",
    "for i in range(100):\n",
    "    print(i*i, end=' ')\n",
    "    if i*i>4000:\n",
    "        break"
   ]
  },
  {
   "cell_type": "code",
   "execution_count": null,
   "metadata": {
    "id": "u_XloZBHHPgS"
   },
   "outputs": [],
   "source": [
    "# pomijanie iteracji w pętli for\n",
    "for i in range(100):\n",
    "    if 5 < i < 25:\n",
    "        continue\n",
    "    print(i*i, end=' ')\n",
    "    if i*i>4000:\n",
    "        break"
   ]
  },
  {
   "cell_type": "markdown",
   "metadata": {
    "id": "AGb5nobZHyDg"
   },
   "source": [
    "## Funkcje\n",
    "Funkcje definiuje się słowem kluczowym `def`, a wywołuje poprzez jej nazwę `nazwa_funkcji()`."
   ]
  },
  {
   "cell_type": "code",
   "execution_count": null,
   "metadata": {
    "id": "cBKwxQp1HvFW"
   },
   "outputs": [],
   "source": [
    "def przywitanie():\n",
    "    print('Hello')"
   ]
  },
  {
   "cell_type": "code",
   "execution_count": null,
   "metadata": {
    "id": "9RMp-CB8HvXr"
   },
   "outputs": [],
   "source": [
    "przywitanie()"
   ]
  },
  {
   "cell_type": "markdown",
   "metadata": {
    "id": "qmxEqbQpH8ef"
   },
   "source": [
    "Funkcja może zwracać wartości, służy do tego słowo kluczowe `return`. Można zwracać dowolną liczbę wartości, dowolnego typu. Tak na prawdę funkcja zawsze coś zwraca, jezeli nie użyjemy w funkcji `return` to funkcja zwróci obiekt `None`."
   ]
  },
  {
   "cell_type": "code",
   "execution_count": null,
   "metadata": {
    "id": "O7cmMSUOHvWU"
   },
   "outputs": [],
   "source": [
    "def funkcja():\n",
    "    return 2\n",
    "\n",
    "a = funkcja()\n",
    "print(a)"
   ]
  },
  {
   "cell_type": "code",
   "execution_count": null,
   "metadata": {
    "id": "d9IPuE6oHvUy"
   },
   "outputs": [],
   "source": [
    "def funkcja2():\n",
    "    return 1,2,3,4\n",
    "\n",
    "a=funkcja2() # przypisanie zwracanych wartości do krotki\n",
    "print(a)\n",
    "\n",
    "x,y,z,t = funkcja2()\n",
    "print(x,y,z,t)"
   ]
  },
  {
   "cell_type": "markdown",
   "metadata": {
    "id": "Tq3msrpkKOPh"
   },
   "source": [
    "### Argumenty funkcji"
   ]
  },
  {
   "cell_type": "markdown",
   "metadata": {
    "id": "EPKpLTxUIK_c"
   },
   "source": [
    "Funkcje mogą przyjmować dowolną liczbę argumetów, argumentem może być dowolnego typu, również inne funkcje."
   ]
  },
  {
   "cell_type": "code",
   "execution_count": null,
   "metadata": {
    "id": "WppZ83pwHvQW"
   },
   "outputs": [],
   "source": [
    "# funkcja zwracające normę euklidesa wektora (lista)\n",
    "def norm(wektor):\n",
    "    suma = 0\n",
    "    for x in wektor:\n",
    "        suma+=x**2\n",
    "    norma = suma**(1/2.0)\n",
    "    return norma\n",
    "\n",
    "norm([1,2,3])"
   ]
  },
  {
   "cell_type": "code",
   "execution_count": null,
   "metadata": {
    "id": "cbTyxyr0HvLY"
   },
   "outputs": [],
   "source": [
    "# fuckcja zwracająca p-tą normę, dla p=2 jest to norma euklidesa\n",
    "def pnorm(wektor, p):\n",
    "    suma = 0\n",
    "    for x in wektor:\n",
    "        suma+=x**p\n",
    "    norma = suma**(1.0/p)\n",
    "    return norma\n",
    "\n",
    "pnorm([1,2,3], 2)"
   ]
  },
  {
   "cell_type": "markdown",
   "metadata": {
    "id": "-5kSuw6fIVAV"
   },
   "source": [
    "Argumenty funkcji zdefiniowane jak powyżej to argumety wymaganlne i przy wywoływaniu trzeba je podać i dokładnie tyle ile trzeba."
   ]
  },
  {
   "cell_type": "code",
   "execution_count": null,
   "metadata": {
    "id": "uYgL6smCIUcK"
   },
   "outputs": [],
   "source": [
    "# na mało argumentów\n",
    "pnorm([1,2,3]) "
   ]
  },
  {
   "cell_type": "code",
   "execution_count": null,
   "metadata": {
    "id": "-5tCpCaOIUZL"
   },
   "outputs": [],
   "source": [
    "# za dużo argumentów\n",
    "pnorm([1,2,3],3,4)"
   ]
  },
  {
   "cell_type": "markdown",
   "metadata": {
    "id": "U1RaGYUJKTou"
   },
   "source": [
    "### Argumenty domyślne"
   ]
  },
  {
   "cell_type": "markdown",
   "metadata": {
    "id": "KIl0JgQxIzuH"
   },
   "source": [
    "Można jednak definiować tzw. argumenty domyślne, dla których w przypadku nie podania wartości przyjęte zostaną zdefiniowane wartości domyślne. Argumenty podawane są porzez ich nazwy więc można je podawać w dowolnej kolejności."
   ]
  },
  {
   "cell_type": "code",
   "execution_count": null,
   "metadata": {
    "id": "umuL4hNsIUW0"
   },
   "outputs": [],
   "source": [
    "# p-ta norma\n",
    "def pnorm(wektor, p=2, pp=True):\n",
    "    suma = 0\n",
    "    for x in wektor:\n",
    "        suma+=x**p\n",
    "    norma = suma**(1.0/p)\n",
    "    if pp:\n",
    "        res = 'Norma {0}-ta wektora {1} to {2}'.format(p, wektor, norma)\n",
    "        print(res)\n",
    "    return norma\n",
    "\n",
    "print(pnorm([1,2,3]))\n",
    "print(pnorm([1,2,3],3))\n",
    "print(pnorm([1,2,3],3,False))\n",
    "print(pnorm([1,2,3],pp=False))\n",
    "print(pnorm([1,2,3],p=3,pp=False))"
   ]
  },
  {
   "cell_type": "markdown",
   "metadata": {
    "id": "thoiCvx6KX_L"
   },
   "source": [
    "### Argumenty `*args, **kargs`"
   ]
  },
  {
   "cell_type": "markdown",
   "metadata": {
    "id": "Nc2crHjGI_i6"
   },
   "source": [
    "Ponieważ funkcje mogą przyjmować bardzo wiele argumentów, aby wyszystkich nie wypisywać, w definicji funkcji używa się często argumentów `*args` oraz `**kargs`. Pierszy znich odpowiada argumentom podawanym wprost (argumenty takie umieszczane są w krotce `args`), a drugi argumantom podawanym poprzez nazwy (argumenty takie umieszczane są w słowniku `kargs`). "
   ]
  },
  {
   "cell_type": "code",
   "execution_count": null,
   "metadata": {
    "id": "fzAJCskPIUUR"
   },
   "outputs": [],
   "source": [
    "def pnorm2(*args, **kargs):\n",
    "    wektor = args[0]\n",
    "    p = args[1]\n",
    "    pp = kargs['pp'] \n",
    "    suma = 0\n",
    "    for x in wektor:\n",
    "        suma+=x**p\n",
    "    norma = suma**(1.0/p)\n",
    "    if pp:\n",
    "        res = 'Norma {0}-ta wektora {1} to {2}'.format(p, wektor, norma)\n",
    "        print(res)\n",
    "    return norma"
   ]
  },
  {
   "cell_type": "code",
   "execution_count": null,
   "metadata": {
    "id": "j_mtIx6gHvJf"
   },
   "outputs": [],
   "source": [
    "pnorm2([1,2,3],3,pp=True)"
   ]
  },
  {
   "cell_type": "markdown",
   "metadata": {
    "id": "XMS7CKzxJ2_W"
   },
   "source": [
    "Argumentami funkcji mogą być również inne funkcje, a także mogą odwoływać się do samej siebie (rekurencja)"
   ]
  },
  {
   "cell_type": "code",
   "execution_count": null,
   "metadata": {
    "id": "mEmTzaw2JFtT"
   },
   "outputs": [],
   "source": [
    "def suma(a,b):\n",
    "    return a+b\n",
    "\n",
    "def roznica(a,b):\n",
    "    return a-b\n",
    "\n",
    "def dzialanie(x,y,f):\n",
    "    return f(x,y)"
   ]
  },
  {
   "cell_type": "code",
   "execution_count": null,
   "metadata": {
    "id": "XEopSZ6AJFxr"
   },
   "outputs": [],
   "source": [
    "dzialanie(2, 3, suma)"
   ]
  },
  {
   "cell_type": "markdown",
   "metadata": {
    "id": "WGtJbTIKKE7Y"
   },
   "source": [
    "### Funkcja `lambda`\n",
    "Słowo kluczowe `lambda` pozwala na zdefiniowanie jednolinijkowej funkcji."
   ]
  },
  {
   "cell_type": "code",
   "execution_count": null,
   "metadata": {
    "id": "3MNfd5EKJFqa"
   },
   "outputs": [],
   "source": [
    "dzialanie(2, 6, lambda x, y: x+y-2*y)"
   ]
  },
  {
   "cell_type": "markdown",
   "metadata": {
    "id": "Onc9g5hvKiFG"
   },
   "source": [
    "## Zadanie 3:\n",
    "- Napisz program (lub funkcję), który wczytuje od użytkownika współczynniki $a,b,c$ równania $ax^2+bx+c=0$ i wypisuje rozwiązania rzeczywiste tego równania lub informację o braku rozwiązań. Wartości współczynników możesz podawać wprost w kodzie np. `a=1` itp. lub wykorzytsać metodę `input()`, która pozwala na wprowadzenie wartości z klawiatury w trakcie działania programu.\n",
    "- Napisz drugą wersję tego programu, która pozwoli na otrzymywanie również rozwiązań zespolonych."
   ]
  },
  {
   "cell_type": "code",
   "execution_count": null,
   "metadata": {
    "id": "wh9SnfyUJFoN"
   },
   "outputs": [],
   "source": [
    "a = 1 #input('Podaj współczynnik a: ') \n",
    "b = 1 #input('Podaj współczynnik b: ') \n",
    "c = 1 #input('Podaj współczynnik c: ') \n",
    "\n",
    "### YOUR CODE HERE"
   ]
  },
  {
   "cell_type": "markdown",
   "metadata": {
    "id": "blb_zXjlK1Jj"
   },
   "source": [
    "## Odwzorowania listowe (List comprehension)\n",
    "- czyli szybkie tworzenie list.\n",
    "\n",
    "Klasyczne tworzenie listy za pomocą pętli `for`:"
   ]
  },
  {
   "cell_type": "code",
   "execution_count": null,
   "metadata": {
    "id": "40LST2HiJFld"
   },
   "outputs": [],
   "source": [
    "tab = []\n",
    "for i in range(50):\n",
    "    tab.append(i**2)\n",
    "print(tab)"
   ]
  },
  {
   "cell_type": "markdown",
   "metadata": {
    "id": "VfUq4SRyuXjA"
   },
   "source": [
    "To samo możemy uzyskać w jednej linijce:"
   ]
  },
  {
   "cell_type": "code",
   "execution_count": null,
   "metadata": {
    "id": "x6QYnOV9K-Gi"
   },
   "outputs": [],
   "source": [
    "tab2 = [i**2 for i in range(50)]\n",
    "print(tab2)"
   ]
  },
  {
   "cell_type": "markdown",
   "metadata": {
    "id": "P2mCug-Tuhfu"
   },
   "source": [
    "Obiektem po którym iterujemu może być dowolny obiekt iterowalny np. lista, zbiór, słownik itp. Możemy również generować w ten sposób listy wielowymiarowe:"
   ]
  },
  {
   "cell_type": "code",
   "execution_count": null,
   "metadata": {
    "id": "h25n6jrDK-D9"
   },
   "outputs": [],
   "source": [
    "tab2d = [[i,j] for i in [1,2,3,4,5] for j in [1,2,3,4,5]]\n",
    "print(tab2d)"
   ]
  },
  {
   "cell_type": "markdown",
   "metadata": {
    "id": "S6wPlmEEuooC"
   },
   "source": [
    "Powyższa konstrukcja może zawierać również instrukcje warunkowe:"
   ]
  },
  {
   "cell_type": "code",
   "execution_count": null,
   "metadata": {
    "id": "AzhuUm_yK-BX"
   },
   "outputs": [],
   "source": [
    "#tylko liczby podzielne przez 13 z listy tab2\n",
    "tab3 = [x for x in tab2 if x % 13 == 0]\n",
    "print(tab3)"
   ]
  },
  {
   "cell_type": "markdown",
   "metadata": {
    "id": "LHuwCCngu11p"
   },
   "source": [
    "Uniwersalna forma dopuszczająca konstrukcję ` if else`:"
   ]
  },
  {
   "cell_type": "code",
   "execution_count": null,
   "metadata": {
    "id": "12WCfDVxuxIk"
   },
   "outputs": [],
   "source": [
    "#liczby podzielne przez 13 zostaw bez zmian, a pozostałe zastąp zerem\n",
    "tab4 = [x if x % 13 == 0 else 0 for x in tab2]\n",
    "print(tab4)"
   ]
  },
  {
   "cell_type": "markdown",
   "metadata": {
    "id": "KaLqVGwsvC5T"
   },
   "source": [
    "## Praca z plikami tekstowymi\n",
    "Do pracy z plikami/folderami przydatny moze okazać sie moduł `os` (https://docs.python.org/3/library/os.html).\n",
    "Np. aby sprawdzić scieżkę do folderu, w którym aktualnie pracujemy należy wykonać polecenie:"
   ]
  },
  {
   "cell_type": "code",
   "execution_count": null,
   "metadata": {
    "id": "w90wHt9wuxMp"
   },
   "outputs": [],
   "source": [
    "import os\n",
    "os.getcwd()"
   ]
  },
  {
   "cell_type": "markdown",
   "metadata": {
    "id": "r8SDGFxdvZfe"
   },
   "source": [
    "Otwieranie pliku tekstowego:\n",
    "```python\n",
    "open('sciezka\\nazwa_pliku','tryb')\n",
    "```\n",
    "\n",
    "Tryby otwierania pliku:\n",
    "\n",
    "`w` - do zapisu (jeżli plik istnieje to go nadpiszemy)\n",
    "\n",
    "`r` - do odczytu\n",
    "\n",
    "`a` - tryb dopisywania\n",
    "\n",
    "Do każdego trybu można dodać litere `b` co oznacza pracę w trybie binarnym.\n",
    "\n",
    "Zapis do pliku:"
   ]
  },
  {
   "cell_type": "code",
   "execution_count": null,
   "metadata": {
    "id": "gy9xHHGVuxGQ"
   },
   "outputs": [],
   "source": [
    "# otwarcie pliku do zapisu\n",
    "f = open('plik.txt','w')\n",
    "# zapisujemy w pliku 5 lini tekstu\n",
    "f.write('linia 1\\n')\n",
    "f.write('linia 2\\n')\n",
    "f.write('linia 3\\n')\n",
    "f.write('linia 4\\n')\n",
    "f.write('linia 5\\n')\n",
    "# zamykamy plik\n",
    "f.close()"
   ]
  },
  {
   "cell_type": "markdown",
   "metadata": {
    "id": "SesOcmtgvkfA"
   },
   "source": [
    "Czytanie z pliku:"
   ]
  },
  {
   "cell_type": "code",
   "execution_count": null,
   "metadata": {
    "id": "3RLhVZHluxDl"
   },
   "outputs": [],
   "source": [
    "# otwarcie pliku do odczytu\n",
    "f = open('plik.txt','r')\n",
    "# czytanie całego pliku\n",
    "tekst = f.read()\n",
    "# zamykamy plik\n",
    "f.close()\n",
    "print(tekst)"
   ]
  },
  {
   "cell_type": "code",
   "execution_count": null,
   "metadata": {
    "id": "IZ7enU1EvoIL"
   },
   "outputs": [],
   "source": [
    "# otwarcie pliku do odczytu\n",
    "f = open('plik.txt','r')\n",
    "# czytanie linia po lini\n",
    "print(f.readline())\n",
    "print(f.readline())\n",
    "print(f.readline())\n",
    "print(f.readline())\n",
    "print(f.readline())\n",
    "print(f.readline())  # pusty string\n",
    "print(f.readline())  # pusty string\n",
    "# zamykamy plik\n",
    "f.close()"
   ]
  },
  {
   "cell_type": "code",
   "execution_count": null,
   "metadata": {
    "id": "_b9waONSvoSu"
   },
   "outputs": [],
   "source": [
    "# otwarcie pliku do odczytu\n",
    "f = open('plik.txt','r')\n",
    "# czytanie linia po linii pętla for\n",
    "for line in f:\n",
    "    print(line)\n",
    "# zamykamy plik\n",
    "f.close()"
   ]
  },
  {
   "cell_type": "code",
   "execution_count": null,
   "metadata": {
    "id": "2zAtJCXlvoO5"
   },
   "outputs": [],
   "source": [
    "# otwarcie pliku do edycji (dopisywanie)\n",
    "f = open('plik.txt','a')\n",
    "f.write('linia 6\\n')\n",
    "f.write('linia 7\\n')\n",
    "f.close()\n",
    "\n",
    "f = open('plik.txt','r')\n",
    "tekst = f.read()\n",
    "f.close()\n",
    "print(tekst)"
   ]
  },
  {
   "cell_type": "markdown",
   "metadata": {
    "id": "uslX43xdwDW0"
   },
   "source": [
    "Aby nie musieć zawsze pamiętać o zamykaniu pliku można użyć słowa kluczowego `with`, wówczas po wyjściu z bloku `with` plik automatycznie zostanie zamknięty."
   ]
  },
  {
   "cell_type": "code",
   "execution_count": null,
   "metadata": {
    "id": "KdXLD-xavoMb"
   },
   "outputs": [],
   "source": [
    "with open('plik.txt','r') as f:\n",
    "    tekst = f.read()\n",
    "print(tekst)\n",
    "f.read()  #error, plik już jest zamknięty"
   ]
  },
  {
   "cell_type": "markdown",
   "metadata": {
    "id": "CNmA9Eq8wQPg"
   },
   "source": [
    "## Praca z plikami csv. Moduł `csv`\n",
    "(https://docs.python.org/3/library/csv.html)."
   ]
  },
  {
   "cell_type": "code",
   "execution_count": null,
   "metadata": {
    "id": "3MtaHRdLv7b6"
   },
   "outputs": [],
   "source": [
    "# import modulu csv\n",
    "import csv "
   ]
  },
  {
   "cell_type": "code",
   "execution_count": null,
   "metadata": {
    "id": "u0uxa2Rqv7Xe"
   },
   "outputs": [],
   "source": [
    "# zapis do pliku csv\n",
    "with open('plik.csv','w', newline='') as f:\n",
    "    csvwriter = csv.writer(f, delimiter=';')  #csv rozdzielany średnikiem, domyslnie przecinek\n",
    "    csvwriter.writerow(['row_1_col_1', 'row_1_col_2','row_1_col_3'])\n",
    "    csvwriter.writerow(['row_2_col_1', 'row_2_col_2','row_2_col_3'])\n",
    "    csvwriter.writerow(['row_3_col_1', 'row_3_col_2','row_3_col_3'])\n",
    "# aby zobaczyć efekt należy podgladnąć plik.csv w folderze roboczym"
   ]
  },
  {
   "cell_type": "code",
   "execution_count": null,
   "metadata": {
    "id": "_ykmzY3zv7UW"
   },
   "outputs": [],
   "source": [
    "# odczyt z pliku csv\n",
    "with open('plik.csv','r', newline='') as f:\n",
    "    csvreader = csv.reader(f, delimiter=';')\n",
    "    for row in csvreader:\n",
    "        for col in row:\n",
    "            print(col)"
   ]
  },
  {
   "cell_type": "markdown",
   "metadata": {
    "id": "WnpyGwigwnb2"
   },
   "source": [
    "## Klasy czyli obiektowość w Python\n",
    "(https://docs.python.org/3/tutorial/classes.html).\n",
    "\n",
    "Klasy w Python definiuje się tak samo jak funkcję z tą różnicą, że używamy słowa kluczowego `class`.\n",
    "```python\n",
    "class NazwaKlasy(klasy, po_ktorych, dziedziczymy):\n",
    "```\n",
    "\n",
    "\n",
    "Metody zaczynające i kończące się `__` to tzw. metody magiczne (specialne) (https://docs.python.org/3/reference/datamodel.html#special-method-names)\n",
    "\n",
    "W poniższym przykładzie klasy Wektor została wykorzystana metoda `__init__` oraz `__add__` do nadpisania operatora dodawania `+`."
   ]
  },
  {
   "cell_type": "code",
   "execution_count": null,
   "metadata": {
    "id": "vAPaOe_bv7R2"
   },
   "outputs": [],
   "source": [
    "#Każda nowa klasa dzidziczy po klasie 'object'. \n",
    "class Wektor(object):\n",
    "    # metoda specjalna, inicjalizacja wykonywana przy tworzeniu obiektu (coś jak konstruktor), nie musi jej być.\n",
    "    def __init__(self, lista=[]):\n",
    "        self.values = lista     #pola naszej klasy\n",
    "        self.dim = len(lista)   #słowo kluczowe `self` odnosi się do naszego obiektu (coś jak `this` w C++)\n",
    "\n",
    "    # metody klasy\n",
    "    def dl(self):  #dlugosc wektora\n",
    "        s=0\n",
    "        for x in self.values:\n",
    "            s+=x**2\n",
    "        return s**(1/2.0)\n",
    "\n",
    "    # inne metody specjalne np. operatory\n",
    "    # dodawanie wektorów\n",
    "    def __add__(self, w):\n",
    "        assert (self.dim == w.dim), 'Wymiary muszą się zgadzać'\n",
    "        return Wektor([x+y for (x,y) in zip(self.values, w.values)])"
   ]
  },
  {
   "cell_type": "code",
   "execution_count": null,
   "metadata": {
    "id": "9w3L85_ews6j"
   },
   "outputs": [],
   "source": [
    "# tworzenie obiektów klasy Wektor\n",
    "w1 = Wektor([1,2,3])\n",
    "w2 = Wektor([4,5,6])"
   ]
  },
  {
   "cell_type": "code",
   "execution_count": null,
   "metadata": {
    "id": "YL-ESbEMwtDz"
   },
   "outputs": [],
   "source": [
    "print(w1.values)\n",
    "print(w2.values)"
   ]
  },
  {
   "cell_type": "code",
   "execution_count": null,
   "metadata": {
    "id": "waiOihTwv7PX"
   },
   "outputs": [],
   "source": [
    "print(w1.dim)\n",
    "print(w2.dim)"
   ]
  },
  {
   "cell_type": "code",
   "execution_count": null,
   "metadata": {
    "id": "2FMOHKXDw3u8"
   },
   "outputs": [],
   "source": [
    "w3 = w1 + w2"
   ]
  },
  {
   "cell_type": "code",
   "execution_count": null,
   "metadata": {
    "id": "rAW3nqwEw3sk"
   },
   "outputs": [],
   "source": [
    "w3.values"
   ]
  },
  {
   "cell_type": "code",
   "execution_count": null,
   "metadata": {
    "id": "wf4sS4X-w93_"
   },
   "outputs": [],
   "source": [
    "w3.dl()"
   ]
  },
  {
   "cell_type": "code",
   "execution_count": null,
   "metadata": {
    "id": "rs1l2fliw-fa"
   },
   "outputs": [],
   "source": [
    "isinstance(w3, Wektor)"
   ]
  },
  {
   "cell_type": "code",
   "execution_count": null,
   "metadata": {
    "id": "KeGDyQw3w-oj"
   },
   "outputs": [],
   "source": [
    "w4 = Wektor([1,2,3,4])\n",
    "w5 = w3 + w4"
   ]
  },
  {
   "cell_type": "markdown",
   "metadata": {
    "id": "xS7EyL5txH-z"
   },
   "source": [
    "## Zadanie 4:\n",
    "Utwórz klasę nadrzędną `Figura` z odpowiednimi metodami pozwalającymi na obliczenie i wyświetlenie pola powierzchni oraz obwodu figury. Klasa `Figura` powinna zawierać jedynie puste definicje tych metod, można wykorzystać słowo kluczowe `pass`.\n",
    "\n",
    "Utwórz klasy `Trojkat`, `Prostokat`, `Kwadrat` dziedziczące po klasie `Figura`. Inicjalizacja obiektów danej klasy powinna odbywać się poprzez podanie długości boków. Klasy te powinny posiadać odpowiednie pola oraz nadpisywać metody z klasy `Figura`. Funkcja inicjalizująca powinna sprawdzać czy z podanych boków można zbudować daną figurę. To rzucania wyjątków można użyć słowa kluczowego `raise` lub jak w przykładzie wcześniej `assert`."
   ]
  },
  {
   "cell_type": "code",
   "execution_count": null,
   "metadata": {
    "id": "u3xb2OW6w90y"
   },
   "outputs": [],
   "source": [
    "### YOUR CODE HERE"
   ]
  },
  {
   "cell_type": "markdown",
   "metadata": {
    "id": "C57dALyNj4Se"
   },
   "source": [
    "&copy; Katedra Informatyki, Politechnika Krakowska"
   ]
  }
 ],
 "metadata": {
  "colab": {
   "authorship_tag": "ABX9TyMCjSajdY7YbkZbHghX3Cmo",
   "collapsed_sections": [],
   "name": "Python_Lab_1.ipynb",
   "provenance": []
  },
  "kernelspec": {
   "display_name": "Python 3 (ipykernel)",
   "language": "python",
   "name": "python3"
  },
  "language_info": {
   "codemirror_mode": {
    "name": "ipython",
    "version": 3
   },
   "file_extension": ".py",
   "mimetype": "text/x-python",
   "name": "python",
   "nbconvert_exporter": "python",
   "pygments_lexer": "ipython3",
   "version": "3.9.7"
  }
 },
 "nbformat": 4,
 "nbformat_minor": 1
}
