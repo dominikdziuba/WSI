{
 "cells": [
  {
   "cell_type": "markdown",
   "metadata": {
    "id": "AMMXLENOd7V-"
   },
   "source": [
    "# Wstęp do Sztucznej Inteligencji - rok akademicki 2021/2022\n",
    "\n",
    "Przed rozpoczęciem pracy z notatnikiem zmień jego nazwę zgodnie z wzorem: `NrAlbumu_Nazwisko_Imie_PoprzedniaNazwa`.\n",
    "\n",
    "Przed wysłaniem notatnika upewnij się, że rozwiązałeś wszystkie zadania/ćwiczenia."
   ]
  },
  {
   "cell_type": "markdown",
   "metadata": {
    "id": "4ZZF68t-kiQ8"
   },
   "source": [
    "# Temat: Wprowadzenie do języka Python cz. II\n",
    "Zapoznaj się z treścią niniejszego notatnika czytając i wykonując go komórka po komórce. Wykonaj napotkane zadania/ćwiczenia."
   ]
  },
  {
   "cell_type": "markdown",
   "metadata": {
    "id": "8ODf7GQ2eLho"
   },
   "source": [
    "## Moduły i skrypty\n",
    "Z plikami z rozszerzeniem `.py` można pracować na 2 sposoby.\n",
    "\n",
    "- jak ze skryptem (ala plik wykonywalny),\n",
    "- jak z modułem (biblioteką) w innych projektach.\n",
    "\n",
    "Utwórz plik tekstowy `pytest.py` o następującej treści:\n",
    "```python\n",
    "def suma(a,b):\n",
    "    return a+b\n",
    "\n",
    "def roznica(a,b):\n",
    "    return a-b\n",
    "\n",
    "PI = 3.1415\n",
    "\n",
    "print(suma(3,5))\n",
    "```\n",
    "W notatniku Jupyter (Colab) można to zrobić wykorzystując tzw. \"funkcje magiczne\" jak w komórce poniżej:"
   ]
  },
  {
   "cell_type": "code",
   "execution_count": null,
   "metadata": {
    "id": "BpX74XmK_BDL"
   },
   "outputs": [],
   "source": [
    "%%writefile pytest.py\n",
    "def suma(a,b):\n",
    "    return a+b\n",
    "\n",
    "def roznica(a,b):\n",
    "    return a-b\n",
    "\n",
    "PI = 3.1415\n",
    "\n",
    "print(suma(3,5))"
   ]
  },
  {
   "cell_type": "markdown",
   "metadata": {
    "id": "HuxZVFXz0Ps1"
   },
   "source": [
    "Aby wykonać plik `pytest.py` należy w terminalu wykonać poniższe polecenie:\n",
    "```\n",
    "python pytest.py\n",
    "```\n",
    "W notatniku Jupyter (Colab) można to zrobić rozpoczynając polecenie znakiem `!` co oznacza że nie są to polecienia języka Python a polecenia w bash'u.\n",
    "\n",
    "Oczywiście należy być w folderze w którym jest plik `pytest.py` lub podać pełną scieżkę do pliku."
   ]
  },
  {
   "cell_type": "code",
   "execution_count": null,
   "metadata": {
    "id": "xXycW_K-_H9Q"
   },
   "outputs": [],
   "source": [
    "!python pytest.py"
   ]
  },
  {
   "cell_type": "markdown",
   "metadata": {
    "id": "FL7-etoM1FSb"
   },
   "source": [
    "Po wykonaniu polecenia na ekranie powinien pojawić się wynik 8.\n",
    "\n",
    "Możemy również używać pliku `pytest.py` importując go tak jak wcześniej poznane modułu."
   ]
  },
  {
   "cell_type": "code",
   "execution_count": null,
   "metadata": {
    "id": "c8JyyouD1SAE"
   },
   "outputs": [],
   "source": [
    "import pytest"
   ]
  },
  {
   "cell_type": "markdown",
   "metadata": {
    "id": "xcjM1iLm1XGF"
   },
   "source": [
    "W tym przypadku plik również został wykonany (pojawiło się 8), ale mamy też możliwość wykorzystania obiektów zdefiniowanych w naszym module."
   ]
  },
  {
   "cell_type": "code",
   "execution_count": null,
   "metadata": {
    "id": "BdUPjdSX1eHb"
   },
   "outputs": [],
   "source": [
    "pytest.suma(1,4)"
   ]
  },
  {
   "cell_type": "code",
   "execution_count": null,
   "metadata": {
    "id": "BjfnHsGj1hRp"
   },
   "outputs": [],
   "source": [
    "pytest.roznica(pytest.PI,1)"
   ]
  },
  {
   "cell_type": "markdown",
   "metadata": {
    "id": "gNX175G414hc"
   },
   "source": [
    "Aby podczas importowania nie wykonywała się linia `print(suma(3,5))` powinna ona znaleźć się w bloku `if __name__==\"__main__\":`"
   ]
  },
  {
   "cell_type": "markdown",
   "metadata": {
    "id": "9B7YUblnktrz"
   },
   "source": [
    "### Ćwiczenie 1:\n",
    "Zmodyfikuj plik `pytest.py` w poniższy sposób i sprawdź róźnicę w działaniu.\n",
    "\n",
    "```python\n",
    "def suma(a,b):\n",
    "    return a+b\n",
    "\n",
    "def roznica(a,b):\n",
    "    return a-b\n",
    "\n",
    "PI = 3.1415\n",
    "\n",
    "if __name__==\"__main__\":\n",
    "    print(suma(3,5))\n",
    "```\n",
    "\n",
    "W przypadku wykonywania pliku zmienna `__name__` przyjmuje wartość `\"__main__\"`, a w przypadku importu nazwę modułu, dzięki temu z tego samego pliku możemy korzystać zarówno jak ze skryptu i jak z modułu."
   ]
  },
  {
   "cell_type": "markdown",
   "metadata": {
    "id": "5xPZCNLQ2zKO"
   },
   "source": [
    "## Numpy ( http://www.numpy.org/ )\n",
    "`Numpy` to podstawowa biblioteka do implementacji operacji i algorytmów numerycznych.\n",
    "\n",
    "Głównym obiektem biblioteki jest `ndarray` czyli tablica wielowymiarowa, za pomocą której można reprezentować wektory, macierze, tensory itp.\n",
    "\n",
    "Moduł `numpy` najczęściej imprtowany jest z aliasem `np`."
   ]
  },
  {
   "cell_type": "code",
   "execution_count": null,
   "metadata": {
    "id": "UUSvbKHP2dd9"
   },
   "outputs": [],
   "source": [
    "import numpy as np"
   ]
  },
  {
   "cell_type": "markdown",
   "metadata": {
    "id": "VWilOQkE_yA8"
   },
   "source": [
    "### Obiekt `ndarray`.\n",
    "Tworzenie:"
   ]
  },
  {
   "cell_type": "code",
   "execution_count": null,
   "metadata": {
    "id": "f_Rc7P6V_8b5"
   },
   "outputs": [],
   "source": [
    "a = np.array([1,2])\n",
    "b = np.array([1.3, 2.5],)\n",
    "c = np.array([1.3, 2.5], dtype=np.int) #rzutowanie na typ int\n",
    "d = np.array([1+2j, 3+1j])\n",
    "e = np.array([[1,2,4],[4,5,7]])\n",
    "print('a:', a)\n",
    "print('b:', b)\n",
    "print('c:', c)\n",
    "print('d:', d)\n",
    "print('e:', e)\n",
    "type(a)"
   ]
  },
  {
   "cell_type": "code",
   "execution_count": null,
   "metadata": {
    "id": "ot2xIuqtHkpd"
   },
   "outputs": [],
   "source": [
    "np.ones((1,5))+np.ones((5,1))"
   ]
  },
  {
   "cell_type": "markdown",
   "metadata": {
    "id": "lFD4AIrBffbv"
   },
   "source": [
    "Podstawowe atrybuty obiektu `ndarray`."
   ]
  },
  {
   "cell_type": "code",
   "execution_count": null,
   "metadata": {
    "id": "SNYidx34AHvA"
   },
   "outputs": [],
   "source": [
    "print(a.shape) #wymiary tablicy\n",
    "print(e.shape)\n",
    "print(b.ndim) #liczba wymiarów\n",
    "print(e.ndim)\n",
    "print(c.dtype) #typ danych\n",
    "print(d.dtype) \n",
    "print(d.size) #liczba elemetów\n",
    "print(e.size)"
   ]
  },
  {
   "cell_type": "markdown",
   "metadata": {
    "id": "5Oy0msBz2-BF"
   },
   "source": [
    "Do elementów obiektu `ndarray` odwołujemy się w taki sam sposób jak do elementów listy."
   ]
  },
  {
   "cell_type": "code",
   "execution_count": null,
   "metadata": {
    "id": "udyrHlfIAKZK"
   },
   "outputs": [],
   "source": [
    "print(a[0])\n",
    "print(e[1])\n",
    "print(e[1,2])\n",
    "print(a[1:3])\n",
    "print(e[:,1])\n",
    "print(e[0,:])"
   ]
  },
  {
   "cell_type": "markdown",
   "metadata": {
    "id": "mOP-odgN3GU4"
   },
   "source": [
    "Wybieranie elementów spełniających podany warunek."
   ]
  },
  {
   "cell_type": "code",
   "execution_count": null,
   "metadata": {
    "id": "dIAyZ0ZmAOCM"
   },
   "outputs": [],
   "source": [
    "#a>2\n",
    "a[a>2]"
   ]
  },
  {
   "cell_type": "markdown",
   "metadata": {
    "id": "P3ghO1kw3MDM"
   },
   "source": [
    "Wybieranie elementów podajac ich indeksy."
   ]
  },
  {
   "cell_type": "code",
   "execution_count": null,
   "metadata": {
    "id": "ob6Ru1WuARs-"
   },
   "outputs": [],
   "source": [
    "a[[0,1,0,1]]"
   ]
  },
  {
   "cell_type": "markdown",
   "metadata": {
    "id": "l_vcZLlxh19H"
   },
   "source": [
    "Przydatne wbudowane metody do tworzenia obiektów `ndarray`."
   ]
  },
  {
   "cell_type": "code",
   "execution_count": null,
   "metadata": {
    "id": "boa60bu3AkZJ"
   },
   "outputs": [],
   "source": [
    "np.zeros(10)"
   ]
  },
  {
   "cell_type": "code",
   "execution_count": null,
   "metadata": {
    "id": "ESWb7yK2A2mX"
   },
   "outputs": [],
   "source": [
    "np.zeros((2,3))"
   ]
  },
  {
   "cell_type": "code",
   "execution_count": null,
   "metadata": {
    "id": "7sMWKYUKA2tJ"
   },
   "outputs": [],
   "source": [
    "np.ones(10)"
   ]
  },
  {
   "cell_type": "code",
   "execution_count": null,
   "metadata": {
    "id": "wB-LYxThBD_J"
   },
   "outputs": [],
   "source": [
    "np.ones((3,4))"
   ]
  },
  {
   "cell_type": "code",
   "execution_count": null,
   "metadata": {
    "id": "Mfbv6i25BPSu"
   },
   "outputs": [],
   "source": [
    "np.arange(5)"
   ]
  },
  {
   "cell_type": "code",
   "execution_count": null,
   "metadata": {
    "id": "naqMZp8xBXDu"
   },
   "outputs": [],
   "source": [
    "np.arange(3,15)"
   ]
  },
  {
   "cell_type": "code",
   "execution_count": null,
   "metadata": {
    "id": "BpX4MOgUBdc3"
   },
   "outputs": [],
   "source": [
    "np.arange(3,15,0.9)"
   ]
  },
  {
   "cell_type": "code",
   "execution_count": null,
   "metadata": {
    "id": "L6mCt_LpB0U2"
   },
   "outputs": [],
   "source": [
    "np.linspace(0,1,10) # 10 równorozłożonych punktów od 0 do 1"
   ]
  },
  {
   "cell_type": "markdown",
   "metadata": {
    "id": "PE1roTj0jGUJ"
   },
   "source": [
    "### Arytmetyka\n",
    "Wszystkie operacje arytmetyczne na obiektach `ndarray` wykonywane są na elementach będących na tych samych pozycjach, a wiec wymiary muszą sie zgadzać."
   ]
  },
  {
   "cell_type": "code",
   "execution_count": null,
   "metadata": {
    "id": "_3DQ1FhSCIN-"
   },
   "outputs": [],
   "source": [
    "a = np.array([1,2,3,4])\n",
    "b = np.ones(4)\n",
    "print('a:',a,'b:',b)\n",
    "print('a+b:',a+b)\n",
    "print('a-b:',a-b)\n",
    "print('a*b:',a*b)\n",
    "print('a/(2*b):',a/(2*b))\n",
    "print('a**2:',a**2)\n",
    "print('a**(b/2):',a**(b/2))"
   ]
  },
  {
   "cell_type": "markdown",
   "metadata": {
    "id": "jn0KqUF5CQfH"
   },
   "source": [
    "W module `numpy` wbudowane są również podstawowe funkcje matematyczne, które jako argument przyjmują obiekt `ndarray`, np."
   ]
  },
  {
   "cell_type": "code",
   "execution_count": null,
   "metadata": {
    "id": "k17CspahCS4-"
   },
   "outputs": [],
   "source": [
    "print('sin(a):', np.sin(a))\n",
    "print('log(a):', np.log(a))"
   ]
  },
  {
   "cell_type": "markdown",
   "metadata": {
    "id": "S8uLX4SL81vv"
   },
   "source": [
    "Inne przydatne metody:"
   ]
  },
  {
   "cell_type": "code",
   "execution_count": null,
   "metadata": {
    "id": "qWEVJtDO83a7"
   },
   "outputs": [],
   "source": [
    "a = np.arange(1,5,0.5)\n",
    "print('a:',a)\n",
    "print('suma elementów:', np.sum(a))\n",
    "print('iloczyn elementów:', np.prod(a))\n",
    "print('cumsum:', np.cumsum(a))\n",
    "print('max:', np.max(a)) #analogicznie minimum\n",
    "print('argmax:', np.argmax(a))"
   ]
  },
  {
   "cell_type": "markdown",
   "metadata": {
    "id": "bDsMZnVxCZHb"
   },
   "source": [
    "W przypadku wiekszej liczby wymiarów możemy wykonywać operacje takie jak np. `sum`, `max`, `min` itp. według zadanego wymiaru `axis`."
   ]
  },
  {
   "cell_type": "code",
   "execution_count": null,
   "metadata": {
    "id": "2Qr_1zeDCS9g"
   },
   "outputs": [],
   "source": [
    "m = np.array([[1,2,3],[4,5,6],[7,8,9]])\n",
    "print('m:',m)\n",
    "print('suma:',np.sum(m))\n",
    "print('suma w wierszach:',np.sum(m, axis=1))\n",
    "print('suma w kolumach:',np.sum(m, axis=0))"
   ]
  },
  {
   "cell_type": "markdown",
   "metadata": {
    "id": "GIxOVvtE9Fy-"
   },
   "source": [
    "Zmiana wymiarów:"
   ]
  },
  {
   "cell_type": "code",
   "execution_count": null,
   "metadata": {
    "id": "zTypDFL9CTCM"
   },
   "outputs": [],
   "source": [
    "a = np.ones(15)\n",
    "print(a)\n",
    "print(a.reshape(3,5))"
   ]
  },
  {
   "cell_type": "markdown",
   "metadata": {
    "id": "hnCwTM9jCm7g"
   },
   "source": [
    "### Algebra liniowa"
   ]
  },
  {
   "cell_type": "code",
   "execution_count": null,
   "metadata": {
    "id": "nwrFGG_iCTAL"
   },
   "outputs": [],
   "source": [
    "v = np.array([1,1])\n",
    "m = np.array([[1,2],[3,4]])\n",
    "print('wektor v:',v)\n",
    "print('macierz m:',m)\n",
    "print('transpozycja wektora:',v.T) #nic nie zmienia\n",
    "print('transpozycja macierzy:',m.T)\n",
    "print('wektor * wektor:', np.dot(v,v)) #iloczyn skalarny\n",
    "print('macierz * wektor:', np.dot(m,v))\n",
    "print('wektor * macierz:', np.dot(v,m))"
   ]
  },
  {
   "cell_type": "markdown",
   "metadata": {
    "id": "DTVoH__fCwtK"
   },
   "source": [
    "Ponieważ transpozycja tablicy jednowymiarowaj nic nie zmienia, mnożenie macierzy przez wektor nie zawsze zadziała poprawnie. Aby operacje były zgodne z rachunkiem macierzowym wektor powinnien być zdefiniowany jako macierz o jednym wierszu/kolumnie. Można w tym celu zamiast `np.array` użyć `np.matrix`."
   ]
  },
  {
   "cell_type": "code",
   "execution_count": null,
   "metadata": {
    "id": "yHbrbma7CvWY"
   },
   "outputs": [],
   "source": [
    "v = np.array([[1,1]])\n",
    "m = np.array([[1,2],[3,4]])\n",
    "print('wektor v:',v)\n",
    "print('macierz m:',m)\n",
    "print('transpozycja wektora:',v.T)\n",
    "print('transpozycja macierzy:',m.T)\n",
    "print('wektor razy wektor:', np.dot(v,v.T)) #macierz o jednym elemencie\n",
    "print('macierz razy wektor:', np.dot(m,v.T)) #macierz o jednej kolumnie\n",
    "print('wektor razy macierz:', np.dot(v,m)) #macierz o jednym wierszu"
   ]
  },
  {
   "cell_type": "code",
   "execution_count": null,
   "metadata": {
    "id": "xlh_MY4OCvir"
   },
   "outputs": [],
   "source": [
    "np.matrix([1,2,3])"
   ]
  },
  {
   "cell_type": "code",
   "execution_count": null,
   "metadata": {
    "id": "6fuj6TkVCve9"
   },
   "outputs": [],
   "source": [
    "np.matrix([[1,2],[3,4]])"
   ]
  },
  {
   "cell_type": "markdown",
   "metadata": {
    "id": "xImud91SDXy5"
   },
   "source": [
    "Wyznacznik i macierz odwrotna (`np.linalg`)"
   ]
  },
  {
   "cell_type": "code",
   "execution_count": null,
   "metadata": {
    "id": "14YgPXYYDWuM"
   },
   "outputs": [],
   "source": [
    "m = np.matrix([[1,2],[3,4]])\n",
    "print('macierz m:',m)\n",
    "print('det(m):', np.linalg.det(m))\n",
    "print('m^(-1):', np.linalg.inv(m))\n",
    "print('m*m^(-1):', np.dot(m,np.linalg.inv(m)))"
   ]
  },
  {
   "cell_type": "markdown",
   "metadata": {
    "id": "CMT5t9NWDf2I"
   },
   "source": [
    "## Scipy ( http://www.scipy.org )\n",
    "`Scipy` to zbudowany na bazie `numpy` moduł zawierający podstawowe algorytmy numeryczne służące m.in do całkowania, optymalizacji, interpolacji itp.\n"
   ]
  },
  {
   "cell_type": "markdown",
   "metadata": {
    "id": "5e_Wlgoc-WUx"
   },
   "source": [
    "### Całkowanie numeryczne"
   ]
  },
  {
   "cell_type": "code",
   "execution_count": null,
   "metadata": {
    "id": "CNSB1dLADWxn"
   },
   "outputs": [],
   "source": [
    "from scipy.integrate import quad, trapz\n",
    "\n",
    "def func(x):\n",
    "    return x**2\n",
    "\n",
    "# całka z x^2 na przedziale [0,1] \n",
    "# metoda kwadratury gaussa\n",
    "c1 = quad(func, 0, 1) # zwraca wartość całki i oszacowany błąd\n",
    "print('quad:',c1) \n",
    "\n",
    "# metoda trapezów\n",
    "x = np.linspace(0, 1,1000)\n",
    "y = func(x)\n",
    "c2 = trapz(y, x) # zwaraca wartość całki\n",
    "print('trapz:',c2)"
   ]
  },
  {
   "cell_type": "markdown",
   "metadata": {
    "id": "QKxbhRDlDma9"
   },
   "source": [
    "### Optymalizacja"
   ]
  },
  {
   "cell_type": "code",
   "execution_count": null,
   "metadata": {
    "id": "TWK5iPz9De9G"
   },
   "outputs": [],
   "source": [
    "from scipy.optimize import minimize\n",
    "\n",
    "def func(x):\n",
    "    return np.sum(x**2)  #suma kwadratów\n",
    "\n",
    "# punkt startowy\n",
    "x0 = [10, 10.]\n",
    "# minimalizacja metodą nelder-mead, dostępnych wiele innych algorytmów\n",
    "res = minimize(func, x0, method='nelder-mead', options={'xtol': 1e-8, 'disp': True})\n",
    "print('punkt minimum:', res.x)\n",
    "print('wartośc minimum:', res.fun)"
   ]
  },
  {
   "cell_type": "markdown",
   "metadata": {
    "id": "d7ZnQBgp-p6a"
   },
   "source": [
    "### Interpolacja"
   ]
  },
  {
   "cell_type": "code",
   "execution_count": null,
   "metadata": {
    "id": "BqfJsgQ_DfCG"
   },
   "outputs": [],
   "source": [
    "from scipy.interpolate import lagrange\n",
    "\n",
    "# punkty interpolacji\n",
    "x = np.linspace(0.0,6.0,10) # 10 równorozłożonych punktów od 0 do 6\n",
    "y = np.sin(x)\n",
    "print('(x,y):',list(zip(x,y)))  #zip łączy elementy tablic w pary\n",
    "\n",
    "# wielomian interpolacyjny Lagrange'a, stopień taki jak liczba punktów\n",
    "w = lagrange(x, y)\n",
    "print('w_coef:', w.coef)"
   ]
  },
  {
   "cell_type": "markdown",
   "metadata": {
    "id": "hgZDDTSeD48V"
   },
   "source": [
    "## Matplotlib ( http://matplotlib.org/ )\n",
    "Moduł `matplotlib` to bardzo rozbudowana biblioteka do tworzenia najróżniejszych wykresów 2D i 3D (warto zaglądnąć do galerii przykładowych wykresów http://matplotlib.org/gallery.html)."
   ]
  },
  {
   "cell_type": "code",
   "execution_count": null,
   "metadata": {
    "id": "hfbJP4U0De__"
   },
   "outputs": [],
   "source": [
    "# import modułu matplotlib\n",
    "import matplotlib.pyplot as plt\n",
    "\n",
    "# rysunki domyślnie powinny wyświetlać się w notatniku\n",
    "# gdyby tak nie było należy odkomentować poniższa linijkę\n",
    "#%matplotlib inline"
   ]
  },
  {
   "cell_type": "markdown",
   "metadata": {
    "id": "mwwEMQ6bEFB3"
   },
   "source": [
    "### Tworzenie wykresu\n",
    "Szybki wykres dla przykładu interpolacji funkcji sinus wielomianem lagrange'a."
   ]
  },
  {
   "cell_type": "code",
   "execution_count": null,
   "metadata": {
    "id": "bNd1ueh0D3q9"
   },
   "outputs": [],
   "source": [
    "plt.figure()\n",
    "plt.plot(x, y, 'o')\n",
    "x2 = np.linspace(0.0,6.0,1000)\n",
    "y2 = w(x2)\n",
    "plt.plot(x2,y2, 'r')\n",
    "plt.show()"
   ]
  },
  {
   "cell_type": "markdown",
   "metadata": {
    "id": "XDBnY_yVERg_"
   },
   "source": [
    "Prosty przykład (jeden wykres na rysunku)."
   ]
  },
  {
   "cell_type": "code",
   "execution_count": null,
   "metadata": {
    "id": "RQ1XK31iD35t"
   },
   "outputs": [],
   "source": [
    "# przykładowe dane\n",
    "x = np.linspace(1, 10, 100)\n",
    "y = np.sin(x)\n",
    "\n",
    "# tworzenie rysunku\n",
    "fig, ax = plt.subplots() #zwraca obiekt rysunku fig, i obiekt wykresu na rysunku ax\n",
    "# rysowanie wykresu\n",
    "ax.plot(x, y)\n",
    "# wyświetlenie rysunku\n",
    "plt.show()"
   ]
  },
  {
   "cell_type": "markdown",
   "metadata": {
    "id": "iAJfsASVEamD"
   },
   "source": [
    "### Modyfikowanie wyglądu"
   ]
  },
  {
   "cell_type": "code",
   "execution_count": null,
   "metadata": {
    "id": "YUW94PY4D333"
   },
   "outputs": [],
   "source": [
    "# przykładowe dane\n",
    "x = np.linspace(1, 10, 100)\n",
    "y = np.sin(x)\n",
    "\n",
    "# tworzenie rysunku\n",
    "fig, ax = plt.subplots()\n",
    "# rysowanie wykresu\n",
    "ax.plot(x, y, c='r', marker='+', linestyle='-.', linewidth=5) #wiele innych opcji patrz w dokumentacji\n",
    "# wyświetlenie rysunku\n",
    "plt.show()"
   ]
  },
  {
   "cell_type": "markdown",
   "metadata": {
    "id": "9VboLNcREnTo"
   },
   "source": [
    "Dodanie tytułu, opisu osi, siatki i legendy."
   ]
  },
  {
   "cell_type": "code",
   "execution_count": null,
   "metadata": {
    "id": "Xn4sZdJUD300"
   },
   "outputs": [],
   "source": [
    "# przykładowe dane\n",
    "x = np.linspace(1, 10, 100)\n",
    "y = np.sin(x)\n",
    "\n",
    "# tworzenie rysunku\n",
    "fig, ax = plt.subplots()\n",
    "# rysowanie wykresu\n",
    "ax.plot(x, y, c='r', linestyle='-.', label='sin(x)') #wiele innych opcji patrz w dokumentacji\n",
    "ax.legend() # dla legendy można ustalić pozycje podając argument 0,1,2,3 lub 4\n",
    "ax.set_title('Sin(x)')\n",
    "ax.set_xlabel('x')\n",
    "ax.set_ylabel('y')\n",
    "ax.grid(True)\n",
    "# wyświetlenie rysunku\n",
    "plt.show()"
   ]
  },
  {
   "cell_type": "markdown",
   "metadata": {
    "id": "5hza3UgVFBqn"
   },
   "source": [
    "Wartości na osiach dobierane są automatycznie jednak możemy to zmodyfikować."
   ]
  },
  {
   "cell_type": "code",
   "execution_count": null,
   "metadata": {
    "id": "0ndjV3YVFAqi"
   },
   "outputs": [],
   "source": [
    "# przykładowe dane\n",
    "x = np.linspace(1, 10, 100)\n",
    "y = np.sin(x)\n",
    "\n",
    "# tworzenie rysunku\n",
    "fig, ax = plt.subplots()\n",
    "# rysowanie wykresu\n",
    "ax.plot(x, y, c='r', linestyle='-.', label='sin(x)') #wiele innych opcji patrz w dokumentacji\n",
    "ax.legend() # dla legendy mozna ustalic pozycje podając argument 0,1,2,3 lub 4\n",
    "ax.set_title('Sin(x)')\n",
    "ax.set_xlabel('x')\n",
    "ax.set_ylabel('y')\n",
    "ax.set_xlim(0,11)\n",
    "ax.set_ylim(-1.1,1.1)\n",
    "ax.grid(True)\n",
    "# wyświetlenie rysunku\n",
    "plt.show()"
   ]
  },
  {
   "cell_type": "markdown",
   "metadata": {
    "id": "7KQS-nHhFpBc"
   },
   "source": [
    "### Wiele wykresów na jednym rysunku."
   ]
  },
  {
   "cell_type": "code",
   "execution_count": null,
   "metadata": {
    "id": "EMZi9-wkFAx8"
   },
   "outputs": [],
   "source": [
    "# przykładowe dane\n",
    "x1 = np.linspace(1, 10, 100)\n",
    "y1 = np.sin(x)\n",
    "x2 = np.linspace(1, 10, 10)\n",
    "y2 = np.sin(x2)\n",
    "\n",
    "# tworzenie rysunku\n",
    "fig, (ax1, ax2) = plt.subplots(nrows=2, ncols=1) # dwa wykresy jeden pod drugim\n",
    "# rysowanie wykresu nr 1\n",
    "ax1.plot(x1, y1, c='r', linestyle='-.', label='sin(x)') #wiele innych opcji patrz w dokumentacji\n",
    "ax1.legend() # dla legendy mozna ustalic pozycje podając argument 0,1,2,3 lub 4\n",
    "ax1.set_title('Sin(x) nr 1')\n",
    "ax1.set_xlabel('x')\n",
    "ax1.set_ylabel('y')\n",
    "ax1.grid(True)\n",
    "# rysowanie wykresu nr 2\n",
    "ax2.scatter(x2, y2, color='r', label='sin(x)') #wiele innych opcji patrz w dokumentacji\n",
    "ax2.legend() # dla legendy mozna ustalic pozycje podając argument 0,1,2,3 lub 4\n",
    "ax2.set_title('Sin(x) nr 2')\n",
    "ax2.set_xlabel('x')\n",
    "ax2.set_ylabel('y')\n",
    "ax2.grid(True)\n",
    "\n",
    "# wyświetlenie rysunku\n",
    "plt.show()"
   ]
  },
  {
   "cell_type": "markdown",
   "metadata": {
    "id": "7bT1TtQ2Fyw3"
   },
   "source": [
    "Histogram."
   ]
  },
  {
   "cell_type": "code",
   "execution_count": null,
   "metadata": {
    "id": "PC0djHYtFA1z"
   },
   "outputs": [],
   "source": [
    "# Aby mieć polskie znaki w tekstach na wykresie należy zmienic czcionkę\n",
    "plt.rcParams['font.family'] = 'DejaVu Sans'\n",
    "\n",
    "# przykładowe dane\n",
    "x = np.random.randn(100) # sto punktów ze standardowego rozkładu normalnego\n",
    "\n",
    "# tworzenie rysunku\n",
    "fig, (ax1, ax2) = plt.subplots(nrows=2, ncols=1) # dwa wykresy jeden pod drugim\n",
    "# rysowanie wykresu nr 1\n",
    "ax1.scatter(range(len(x)), x, color='r') \n",
    "ax1.set_title('Random')\n",
    "ax1.set_xlabel('nr')\n",
    "ax1.set_ylabel('y')\n",
    "ax1.grid(True)\n",
    "# rysowanie wykresu nr 2\n",
    "ax2.hist(x, 20) #wiele innych opcji patrz w dokumentacji\n",
    "ax2.set_xlabel('x')\n",
    "ax2.set_ylabel(u'częstość')\n",
    "ax2.grid(True)\n",
    "\n",
    "# wyświetlenie rysunku\n",
    "plt.show()"
   ]
  },
  {
   "cell_type": "markdown",
   "metadata": {
    "id": "_gXBuKWAF-iw"
   },
   "source": [
    "### Wykres 3D."
   ]
  },
  {
   "cell_type": "code",
   "execution_count": null,
   "metadata": {
    "id": "ndFuJ57jFA_H"
   },
   "outputs": [],
   "source": [
    "from mpl_toolkits.mplot3d import Axes3D\n",
    "\n",
    "x = np.random.randn(100)\n",
    "y = np.random.randn(100)\n",
    "z = np.random.randn(100)\n",
    "\n",
    "fig = plt.figure()\n",
    "ax = fig.add_subplot(111, projection='3d')\n",
    "ax.scatter(x, y, z, c='r', marker='o')\n",
    "ax.set_xlabel('X')\n",
    "ax.set_ylabel('Y')\n",
    "ax.set_zlabel('Z')\n",
    "\n",
    "plt.show()"
   ]
  },
  {
   "cell_type": "markdown",
   "metadata": {
    "id": "8yRvNoosGURJ"
   },
   "source": [
    "Fajny przykład z galerii."
   ]
  },
  {
   "cell_type": "code",
   "execution_count": null,
   "metadata": {
    "id": "pX3lNnABFAoA"
   },
   "outputs": [],
   "source": [
    "from mpl_toolkits.mplot3d import axes3d\n",
    "import matplotlib.pyplot as plt\n",
    "from matplotlib import cm\n",
    "\n",
    "fig = plt.figure()\n",
    "ax = fig.gca(projection='3d')\n",
    "X, Y, Z = axes3d.get_test_data(0.05)\n",
    "ax.plot_surface(X, Y, Z, rstride=8, cstride=8, alpha=0.3)\n",
    "cset = ax.contour(X, Y, Z, zdir='z', offset=-100, cmap=cm.coolwarm)\n",
    "cset = ax.contour(X, Y, Z, zdir='x', offset=-40, cmap=cm.coolwarm)\n",
    "cset = ax.contour(X, Y, Z, zdir='y', offset=40, cmap=cm.coolwarm)\n",
    "\n",
    "ax.set_xlabel('X')\n",
    "ax.set_xlim(-40, 40)\n",
    "ax.set_ylabel('Y')\n",
    "ax.set_ylim(-40, 40)\n",
    "ax.set_zlabel('Z')\n",
    "ax.set_zlim(-100, 100)\n",
    "\n",
    "plt.show()"
   ]
  },
  {
   "cell_type": "markdown",
   "metadata": {
    "id": "ZCOmVQgFGc5h"
   },
   "source": [
    "## Pandas (http://pandas.pydata.org/)\n",
    "`Pandas` to moduł do szybkiego i wygodnego przetwarzania i analizowania danych w postaci tabel."
   ]
  },
  {
   "cell_type": "code",
   "execution_count": null,
   "metadata": {
    "id": "e-AlWduYGPeB"
   },
   "outputs": [],
   "source": [
    "# import modułu pandas\n",
    "import pandas as pd"
   ]
  },
  {
   "cell_type": "markdown",
   "metadata": {
    "id": "53HCcRZ0Gl-u"
   },
   "source": [
    "### DataFrame\n",
    "Podstawowym obiektem modułu `pandas` jest `DataFrame`."
   ]
  },
  {
   "cell_type": "code",
   "execution_count": null,
   "metadata": {
    "id": "vk9XCsR7GPbi"
   },
   "outputs": [],
   "source": [
    "# stworzenie obiektu dataframe\n",
    "df = pd.DataFrame([[1,2,3],[1,2,3]], columns=['A','B','C'])"
   ]
  },
  {
   "cell_type": "code",
   "execution_count": null,
   "metadata": {
    "id": "p-Svfqo1GPY8"
   },
   "outputs": [],
   "source": [
    "df"
   ]
  },
  {
   "cell_type": "code",
   "execution_count": null,
   "metadata": {
    "id": "EM_kH3_8ebuJ"
   },
   "outputs": [],
   "source": [
    "df.values"
   ]
  },
  {
   "cell_type": "markdown",
   "metadata": {
    "id": "92aFJL6zHH18"
   },
   "source": [
    "Obiekt `DataFrame` możemy stworzyć bezpośrednio wczytując dane z pliku np. txt, csv, xls itp. \n",
    "\n",
    "Wykorzystywany w poniższych komórkach plik `titanic.xls` można wgrać bezpośredniu środowiska (Zakładka `Files`) lub na swój Google Drive i go połączyć ze śodowiskiem, jak poniżej:"
   ]
  },
  {
   "cell_type": "code",
   "execution_count": null,
   "metadata": {
    "id": "7FuZFmzBDQUG"
   },
   "outputs": [],
   "source": [
    "import sys\n",
    "from google.colab import drive\n",
    "drive.mount('/content/drive')\n",
    "# upewniej się że poniższa ścieżka jest poprawna\n",
    "path_nb = r'/content/drive/My Drive/Colab Notebooks/WdSI_2021/T2_Lab_Python/'\n",
    "sys.path.append(path_nb)"
   ]
  },
  {
   "cell_type": "code",
   "execution_count": null,
   "metadata": {
    "id": "liKF-xJrGPWA"
   },
   "outputs": [],
   "source": [
    "# wczytanie danych z pliku xls\n",
    "df_titanic = pd.read_excel(path_nb+'titanic.xls')"
   ]
  },
  {
   "cell_type": "code",
   "execution_count": null,
   "metadata": {
    "id": "PhNdcsRpEgp8"
   },
   "outputs": [],
   "source": [
    "df_titanic"
   ]
  },
  {
   "cell_type": "code",
   "execution_count": null,
   "metadata": {
    "id": "DaQ-6NHeGx94"
   },
   "outputs": [],
   "source": [
    "# wyświetlenie pierwszych n wierszy\n",
    "df_titanic.head(6)"
   ]
  },
  {
   "cell_type": "code",
   "execution_count": null,
   "metadata": {
    "id": "ybBKx_vlGyBZ"
   },
   "outputs": [],
   "source": [
    "# wyświetlenie ostatnich n wierszy\n",
    "df_titanic.tail(6)"
   ]
  },
  {
   "cell_type": "code",
   "execution_count": null,
   "metadata": {
    "id": "zxDXy7n2Gx7r"
   },
   "outputs": [],
   "source": [
    "# wyświetlenie podstawowych statystyk\n",
    "df_titanic.describe().T  #transpozycja dla lepszej czytelności\n",
    "# wyniki tylko dla kolumn zawierających dane liczbowe"
   ]
  },
  {
   "cell_type": "code",
   "execution_count": null,
   "metadata": {
    "id": "1CmQ35V0Gx5F"
   },
   "outputs": [],
   "source": [
    "# odwołanie do konkretnej kolumny\n",
    "df_titanic['age'][:10]  # pierwsze 10"
   ]
  },
  {
   "cell_type": "code",
   "execution_count": null,
   "metadata": {
    "id": "PjKQTjcAHPch"
   },
   "outputs": [],
   "source": [
    "# to samo uzyskamy pisząc\n",
    "df_titanic.age[:10]"
   ]
  },
  {
   "cell_type": "code",
   "execution_count": null,
   "metadata": {
    "id": "1OsDVEESHPnC"
   },
   "outputs": [],
   "source": [
    "# lista nazw kolumn\n",
    "df_titanic.columns"
   ]
  },
  {
   "cell_type": "markdown",
   "metadata": {
    "id": "GXRlaladHdO_"
   },
   "source": [
    "Brakujące dane w komórkach zastępowane są poprzez obiekt `NaN`."
   ]
  },
  {
   "cell_type": "code",
   "execution_count": null,
   "metadata": {
    "id": "F9eILcYHHPq4"
   },
   "outputs": [],
   "source": [
    "# policzenie liczby brakujących wartości w poszczególnych kolumnach\n",
    "df_titanic.apply(lambda x: sum(x.isnull()),axis=0)"
   ]
  },
  {
   "cell_type": "code",
   "execution_count": null,
   "metadata": {
    "id": "BUtm1t24HPkj"
   },
   "outputs": [],
   "source": [
    "# brakujące dane możemy zastąpić ustaloną wartością np. -1\n",
    "df_titanic.fillna(-1, inplace=True)\n",
    "df_titanic.apply(lambda x: sum(x.isnull()),axis=0)"
   ]
  },
  {
   "cell_type": "code",
   "execution_count": null,
   "metadata": {
    "id": "1hdyyBIqHPi4"
   },
   "outputs": [],
   "source": [
    "# wybieranie kilku kolumn\n",
    "df_titanic2 = df_titanic[['name','age']]\n",
    "df_titanic2.head()"
   ]
  },
  {
   "cell_type": "code",
   "execution_count": null,
   "metadata": {
    "id": "u_XloZBHHPgS"
   },
   "outputs": [],
   "source": [
    "# usuwanie kolumn\n",
    "df_titanic = df_titanic.drop(['name','cabin','boat', 'body', 'ticket', 'home.dest'], 1)\n",
    "df_titanic.head()"
   ]
  },
  {
   "cell_type": "code",
   "execution_count": null,
   "metadata": {
    "id": "GUgNjRenEPwE"
   },
   "outputs": [],
   "source": [
    "# unikalne wartości w kolumnach\n",
    "for col in df_titanic.columns:\n",
    "    print(col, df_titanic[col].unique())"
   ]
  },
  {
   "cell_type": "markdown",
   "metadata": {
    "id": "AGb5nobZHyDg"
   },
   "source": [
    "Rysowanie wykresów bezpośednio z tabel."
   ]
  },
  {
   "cell_type": "code",
   "execution_count": null,
   "metadata": {
    "id": "cBKwxQp1HvFW"
   },
   "outputs": [],
   "source": [
    "import matplotlib.pyplot as plt\n",
    "# rozkład wieku\n",
    "df_titanic['age'].hist()  # pik w -1 to nasze brakujące dane\n",
    "plt.show()"
   ]
  },
  {
   "cell_type": "code",
   "execution_count": null,
   "metadata": {
    "id": "9RMp-CB8HvXr"
   },
   "outputs": [],
   "source": [
    "# bar plot z dwóch kolumn\n",
    "ct = pd.crosstab(df_titanic['pclass'], df_titanic['survived'])\n",
    "ct.plot(kind='bar')\n",
    "plt.show()"
   ]
  },
  {
   "cell_type": "markdown",
   "metadata": {
    "id": "qmxEqbQpH8ef"
   },
   "source": [
    "Na danych w postaci obiektów `DataFrame` można wykonywać bardzo dużo przeróżnych operacji jak również pracować z nimi jak z tabelami w bazach danych (zapytania SQL). Więcej w dokumentacji."
   ]
  },
  {
   "cell_type": "markdown",
   "metadata": {
    "id": "Tq3msrpkKOPh"
   },
   "source": [
    "__Przedstawione wyżej przykłady to tylko bardzo niewielki przykład możliwości modułów numpy, scipy, matplotlib oraz pandas. Zachęcam do poczytania (przeglądnięcia) dokumentacji tych modułów__"
   ]
  },
  {
   "cell_type": "markdown",
   "metadata": {
    "id": "EPKpLTxUIK_c"
   },
   "source": [
    "## Zadanie 1:\n",
    "Napisz funkcję wyliczającą macierz odległości (euklidesowych) dla podanego zbioru wektorów. Funkcja powinna działać dla dowolnej liczby wektorów oraz dowolnego wymiaru tych wektorów.\n",
    "\n",
    "Macierz odległości $M = [m_{ij}]$, gdzie $m_{ij}$ to odległość Euklidesa między $i$-tym a $j$-tym wektorem.  \n",
    "\n",
    "Funkcję tą napisz w dwóch wersjach. Jedną z użyciem pakietu `numpy`, a drugą bez (czysty Python). Porównaj czasy ich działania dla losowych danych wejściowych. Do pomiaru czasu można wykorzystać moduł `time` lub dostępną w notatniku metodę magiczną `%%timeit` (http://ipython.readthedocs.io/en/stable/interactive/magics.html).\n",
    "\n",
    "Dla wersji z użyciem pakietu `numpy` spróbuj napisać tą funkcję tak aby uniknąć wykorzystywania pętli `for` (dodatkowe punkty)."
   ]
  },
  {
   "cell_type": "code",
   "execution_count": null,
   "metadata": {
    "id": "WppZ83pwHvQW"
   },
   "outputs": [],
   "source": [
    "import numpy as np\n",
    "import random\n",
    "import time\n",
    "\n",
    "# Dane wejściowe:\n",
    "m = 1000  # liczba wektorów\n",
    "n = 300  # wymiar wektora\n",
    "wektory = [[random.random() for _ in range(n)] for _ in range(m)]\n",
    "\n",
    "### YOUR CODE HERE"
   ]
  },
  {
   "cell_type": "markdown",
   "metadata": {
    "id": "-5kSuw6fIVAV"
   },
   "source": [
    "## Zadanie 2:\n",
    "Korzystając z pakietu `scipy.optimize` znajdź minimum poniższej funkcji\n",
    "$$ F(x,y)=\\frac{1}{f}\\left(-a\\exp{[-b\\sqrt{\\frac{1}{n}(x^2+y^2)}]}-\\exp{[\\frac{1}{n}(\\cos(cx)+\\cos(cy))]}+a+\\exp(1)+d \\right) $$\n",
    "dla $a=20, b=0.2, c=2\\pi, d=5.7, f=0.8, n=2$ oraz przy ograniczniach $x,y\\in[-1.5,1.5]$.\n",
    "\n",
    "Wypróbuj różne punkty startowe, czy zawsze dostajesz ten sam wyniki?, dalczego?."
   ]
  },
  {
   "cell_type": "code",
   "execution_count": null,
   "metadata": {
    "id": "uYgL6smCIUcK"
   },
   "outputs": [],
   "source": [
    "import numpy as np\n",
    "from scipy.optimize import minimize\n",
    "\n",
    "### YOUR CODE HERE"
   ]
  },
  {
   "cell_type": "markdown",
   "metadata": {
    "id": "U1RaGYUJKTou"
   },
   "source": [
    "## Zadanie 3:\n",
    "Korzystając z pakietu `matplotlib` narysuj wykres funkcji z zadania 2."
   ]
  },
  {
   "cell_type": "code",
   "execution_count": null,
   "metadata": {
    "id": "umuL4hNsIUW0"
   },
   "outputs": [],
   "source": [
    "import numpy as np\n",
    "from mpl_toolkits.mplot3d import axes3d\n",
    "import matplotlib.pyplot as plt\n",
    "\n",
    "### YOUR CODE HERE"
   ]
  },
  {
   "cell_type": "markdown",
   "metadata": {
    "id": "C57dALyNj4Se"
   },
   "source": [
    "&copy; Katedra Informatyki, Politechnika Krakowska"
   ]
  }
 ],
 "metadata": {
  "colab": {
   "authorship_tag": "ABX9TyNHTE70GJM5ehUKDvOUyQ/O",
   "collapsed_sections": [],
   "name": "Python_Lab_2.ipynb",
   "provenance": []
  },
  "kernelspec": {
   "display_name": "Python 3",
   "name": "python3"
  }
 },
 "nbformat": 4,
 "nbformat_minor": 0
}
